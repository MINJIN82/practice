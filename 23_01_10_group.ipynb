{
  "nbformat": 4,
  "nbformat_minor": 0,
  "metadata": {
    "colab": {
      "provenance": [],
      "mount_file_id": "1sToMMWv4vuobN8BsIoNWlHAv5O09ayjC",
      "authorship_tag": "ABX9TyPSMj8fikhQyWzocy1UqBmY",
      "include_colab_link": true
    },
    "kernelspec": {
      "name": "python3",
      "display_name": "Python 3"
    },
    "language_info": {
      "name": "python"
    }
  },
  "cells": [
    {
      "cell_type": "markdown",
      "metadata": {
        "id": "view-in-github",
        "colab_type": "text"
      },
      "source": [
        "<a href=\"https://colab.research.google.com/github/yuree89/practice/blob/main/23_01_10_group.ipynb\" target=\"_parent\"><img src=\"https://colab.research.google.com/assets/colab-badge.svg\" alt=\"Open In Colab\"/></a>"
      ]
    },
    {
      "cell_type": "markdown",
      "source": [
        "# 조별활동 (23.01.10)"
      ],
      "metadata": {
        "id": "rxrej1UMtGSZ"
      }
    },
    {
      "cell_type": "code",
      "source": [
        "# 함수 불러오기\n",
        "\n",
        "import pandas as pd\n",
        "import numpy as np\n",
        "from sklearn.model_selection import train_test_split #train set / test set 나눠서 작동\n",
        "from sklearn.model_selection import cross_val_score # cross_val_score : 교차검증 함수\n",
        "from sklearn.neighbors import KNeighborsRegressor # KNeighborsRegressor : 최근접 이웃 회귀"
      ],
      "metadata": {
        "id": "YI1YaYWGdMYt"
      },
      "execution_count": 25,
      "outputs": []
    },
    {
      "cell_type": "code",
      "source": [
        "from sklearn.neighbors import KNeighborsClassifier\n",
        "from sklearn.model_selection import StratifiedKFold\n",
        "from sklearn.model_selection import GridSearchCV\n",
        "from imblearn.under_sampling import RandomUnderSampler\n",
        "from collections import Counter\n",
        "from imblearn.over_sampling import SMOTE"
      ],
      "metadata": {
        "id": "UfYnYhoIzdvN"
      },
      "execution_count": 26,
      "outputs": []
    },
    {
      "cell_type": "code",
      "source": [
        "!pip install pingouin\n",
        "!pip install scikit_posthocs"
      ],
      "metadata": {
        "colab": {
          "base_uri": "https://localhost:8080/"
        },
        "id": "-4dt1h700u-N",
        "outputId": "1f42231d-0712-4b6d-c693-44db356fc7f6"
      },
      "execution_count": 27,
      "outputs": [
        {
          "output_type": "stream",
          "name": "stdout",
          "text": [
            "Looking in indexes: https://pypi.org/simple, https://us-python.pkg.dev/colab-wheels/public/simple/\n",
            "Requirement already satisfied: pingouin in /usr/local/lib/python3.8/dist-packages (0.5.3)\n",
            "Requirement already satisfied: pandas-flavor>=0.2.0 in /usr/local/lib/python3.8/dist-packages (from pingouin) (0.3.0)\n",
            "Requirement already satisfied: seaborn>=0.11 in /usr/local/lib/python3.8/dist-packages (from pingouin) (0.11.2)\n",
            "Requirement already satisfied: numpy>=1.19 in /usr/local/lib/python3.8/dist-packages (from pingouin) (1.21.6)\n",
            "Requirement already satisfied: scipy>=1.7 in /usr/local/lib/python3.8/dist-packages (from pingouin) (1.7.3)\n",
            "Requirement already satisfied: tabulate in /usr/local/lib/python3.8/dist-packages (from pingouin) (0.8.10)\n",
            "Requirement already satisfied: matplotlib>=3.0.2 in /usr/local/lib/python3.8/dist-packages (from pingouin) (3.2.2)\n",
            "Requirement already satisfied: scikit-learn in /usr/local/lib/python3.8/dist-packages (from pingouin) (1.0.2)\n",
            "Requirement already satisfied: statsmodels>=0.13 in /usr/local/lib/python3.8/dist-packages (from pingouin) (0.13.5)\n",
            "Requirement already satisfied: outdated in /usr/local/lib/python3.8/dist-packages (from pingouin) (0.2.2)\n",
            "Requirement already satisfied: pandas>=1.0 in /usr/local/lib/python3.8/dist-packages (from pingouin) (1.3.5)\n",
            "Requirement already satisfied: pyparsing!=2.0.4,!=2.1.2,!=2.1.6,>=2.0.1 in /usr/local/lib/python3.8/dist-packages (from matplotlib>=3.0.2->pingouin) (3.0.9)\n",
            "Requirement already satisfied: kiwisolver>=1.0.1 in /usr/local/lib/python3.8/dist-packages (from matplotlib>=3.0.2->pingouin) (1.4.4)\n",
            "Requirement already satisfied: python-dateutil>=2.1 in /usr/local/lib/python3.8/dist-packages (from matplotlib>=3.0.2->pingouin) (2.8.2)\n",
            "Requirement already satisfied: cycler>=0.10 in /usr/local/lib/python3.8/dist-packages (from matplotlib>=3.0.2->pingouin) (0.11.0)\n",
            "Requirement already satisfied: pytz>=2017.3 in /usr/local/lib/python3.8/dist-packages (from pandas>=1.0->pingouin) (2022.7)\n",
            "Requirement already satisfied: xarray in /usr/local/lib/python3.8/dist-packages (from pandas-flavor>=0.2.0->pingouin) (2022.12.0)\n",
            "Requirement already satisfied: lazy-loader==0.1rc2 in /usr/local/lib/python3.8/dist-packages (from pandas-flavor>=0.2.0->pingouin) (0.1rc2)\n",
            "Requirement already satisfied: packaging>=21.3 in /usr/local/lib/python3.8/dist-packages (from statsmodels>=0.13->pingouin) (21.3)\n",
            "Requirement already satisfied: patsy>=0.5.2 in /usr/local/lib/python3.8/dist-packages (from statsmodels>=0.13->pingouin) (0.5.3)\n",
            "Requirement already satisfied: requests in /usr/local/lib/python3.8/dist-packages (from outdated->pingouin) (2.25.1)\n",
            "Requirement already satisfied: littleutils in /usr/local/lib/python3.8/dist-packages (from outdated->pingouin) (0.2.2)\n",
            "Requirement already satisfied: setuptools>=44 in /usr/local/lib/python3.8/dist-packages (from outdated->pingouin) (57.4.0)\n",
            "Requirement already satisfied: joblib>=0.11 in /usr/local/lib/python3.8/dist-packages (from scikit-learn->pingouin) (1.2.0)\n",
            "Requirement already satisfied: threadpoolctl>=2.0.0 in /usr/local/lib/python3.8/dist-packages (from scikit-learn->pingouin) (3.1.0)\n",
            "Requirement already satisfied: six in /usr/local/lib/python3.8/dist-packages (from patsy>=0.5.2->statsmodels>=0.13->pingouin) (1.15.0)\n",
            "Requirement already satisfied: idna<3,>=2.5 in /usr/local/lib/python3.8/dist-packages (from requests->outdated->pingouin) (2.10)\n",
            "Requirement already satisfied: urllib3<1.27,>=1.21.1 in /usr/local/lib/python3.8/dist-packages (from requests->outdated->pingouin) (1.24.3)\n",
            "Requirement already satisfied: chardet<5,>=3.0.2 in /usr/local/lib/python3.8/dist-packages (from requests->outdated->pingouin) (4.0.0)\n",
            "Requirement already satisfied: certifi>=2017.4.17 in /usr/local/lib/python3.8/dist-packages (from requests->outdated->pingouin) (2022.12.7)\n",
            "Looking in indexes: https://pypi.org/simple, https://us-python.pkg.dev/colab-wheels/public/simple/\n",
            "Requirement already satisfied: scikit_posthocs in /usr/local/lib/python3.8/dist-packages (0.7.0)\n",
            "Requirement already satisfied: statsmodels in /usr/local/lib/python3.8/dist-packages (from scikit_posthocs) (0.13.5)\n",
            "Requirement already satisfied: pandas>=0.20.0 in /usr/local/lib/python3.8/dist-packages (from scikit_posthocs) (1.3.5)\n",
            "Requirement already satisfied: matplotlib in /usr/local/lib/python3.8/dist-packages (from scikit_posthocs) (3.2.2)\n",
            "Requirement already satisfied: seaborn in /usr/local/lib/python3.8/dist-packages (from scikit_posthocs) (0.11.2)\n",
            "Requirement already satisfied: numpy in /usr/local/lib/python3.8/dist-packages (from scikit_posthocs) (1.21.6)\n",
            "Requirement already satisfied: scipy in /usr/local/lib/python3.8/dist-packages (from scikit_posthocs) (1.7.3)\n",
            "Requirement already satisfied: python-dateutil>=2.7.3 in /usr/local/lib/python3.8/dist-packages (from pandas>=0.20.0->scikit_posthocs) (2.8.2)\n",
            "Requirement already satisfied: pytz>=2017.3 in /usr/local/lib/python3.8/dist-packages (from pandas>=0.20.0->scikit_posthocs) (2022.7)\n",
            "Requirement already satisfied: cycler>=0.10 in /usr/local/lib/python3.8/dist-packages (from matplotlib->scikit_posthocs) (0.11.0)\n",
            "Requirement already satisfied: kiwisolver>=1.0.1 in /usr/local/lib/python3.8/dist-packages (from matplotlib->scikit_posthocs) (1.4.4)\n",
            "Requirement already satisfied: pyparsing!=2.0.4,!=2.1.2,!=2.1.6,>=2.0.1 in /usr/local/lib/python3.8/dist-packages (from matplotlib->scikit_posthocs) (3.0.9)\n",
            "Requirement already satisfied: packaging>=21.3 in /usr/local/lib/python3.8/dist-packages (from statsmodels->scikit_posthocs) (21.3)\n",
            "Requirement already satisfied: patsy>=0.5.2 in /usr/local/lib/python3.8/dist-packages (from statsmodels->scikit_posthocs) (0.5.3)\n",
            "Requirement already satisfied: six in /usr/local/lib/python3.8/dist-packages (from patsy>=0.5.2->statsmodels->scikit_posthocs) (1.15.0)\n"
          ]
        }
      ]
    },
    {
      "cell_type": "code",
      "source": [
        "!sudo apt-get install -y fonts-nanum\n",
        "!sudo fc-cache -fv\n",
        "!rm ~/.cache/matplotlib -rf"
      ],
      "metadata": {
        "colab": {
          "base_uri": "https://localhost:8080/"
        },
        "id": "5CDtxzAX015E",
        "outputId": "61037945-b3b4-4191-df67-c309e3d8533b"
      },
      "execution_count": 28,
      "outputs": [
        {
          "output_type": "stream",
          "name": "stdout",
          "text": [
            "Reading package lists... Done\n",
            "Building dependency tree       \n",
            "Reading state information... Done\n",
            "fonts-nanum is already the newest version (20170925-1).\n",
            "The following package was automatically installed and is no longer required:\n",
            "  libnvidia-common-460\n",
            "Use 'sudo apt autoremove' to remove it.\n",
            "0 upgraded, 0 newly installed, 0 to remove and 21 not upgraded.\n",
            "/usr/share/fonts: caching, new cache contents: 0 fonts, 1 dirs\n",
            "/usr/share/fonts/truetype: caching, new cache contents: 0 fonts, 3 dirs\n",
            "/usr/share/fonts/truetype/humor-sans: caching, new cache contents: 1 fonts, 0 dirs\n",
            "/usr/share/fonts/truetype/liberation: caching, new cache contents: 16 fonts, 0 dirs\n",
            "/usr/share/fonts/truetype/nanum: caching, new cache contents: 10 fonts, 0 dirs\n",
            "/usr/local/share/fonts: caching, new cache contents: 0 fonts, 0 dirs\n",
            "/root/.local/share/fonts: skipping, no such directory\n",
            "/root/.fonts: skipping, no such directory\n",
            "/var/cache/fontconfig: cleaning cache directory\n",
            "/root/.cache/fontconfig: not cleaning non-existent cache directory\n",
            "/root/.fontconfig: not cleaning non-existent cache directory\n",
            "fc-cache: succeeded\n"
          ]
        }
      ]
    },
    {
      "cell_type": "code",
      "source": [
        "import matplotlib.pyplot as plt\n",
        "plt.rc('font',family='NanumbarunGothic')"
      ],
      "metadata": {
        "id": "J9GS-tUp07sG"
      },
      "execution_count": 29,
      "outputs": []
    },
    {
      "cell_type": "code",
      "source": [
        "from matplotlib import pyplot as plt\n",
        "from pandas import DataFrame\n",
        "import numpy as np\n",
        "import pandas as pd\n",
        "import math\n",
        "import sklearn.preprocessing \n",
        "from scipy import stats\n",
        "import pingouin as pg\n",
        "import scikit_posthocs\n",
        "import scipy as sp\n",
        "from statsmodels.formula.api import ols\n",
        "from statsmodels.stats.anova import anova_lm\n",
        "from sklearn.model_selection import train_test_split"
      ],
      "metadata": {
        "id": "8mzvVRfZ0-QJ"
      },
      "execution_count": 30,
      "outputs": []
    },
    {
      "cell_type": "code",
      "execution_count": 31,
      "metadata": {
        "colab": {
          "base_uri": "https://localhost:8080/",
          "height": 424
        },
        "id": "XlltqqHJcmEJ",
        "outputId": "f2d28a34-b8cc-4b09-e97b-dcd85d3d284f"
      },
      "outputs": [
        {
          "output_type": "execute_result",
          "data": {
            "text/plain": [
              "              이름               집 종류  방 개수    지하철 거리      공항 거리      병원 거리  \\\n",
              "0     Train_0000          Apartment     3  0.312579  22.646032  11.726966   \n",
              "1     Train_0001  Independent Floor     1  2.486167  13.500583   7.527761   \n",
              "2     Train_0002  Independent Floor     3  1.528794  18.918243  17.135939   \n",
              "3     Train_0003  Independent Floor     3  0.967121  17.749252  16.251937   \n",
              "4     Train_0004          Apartment     4  0.834506   4.288189  15.541840   \n",
              "...          ...                ...   ...       ...        ...        ...   \n",
              "8687  Train_8687          Apartment     1  0.005681   7.776390  18.212199   \n",
              "8688  Train_8688          Apartment     1  0.007987  12.969368   9.442664   \n",
              "8689  Train_8689  Independent Floor     3  0.203502  17.094466   5.468956   \n",
              "8690  Train_8690  Independent Floor     1  0.248603  20.628700   9.801128   \n",
              "8691  Train_8691  Independent Floor     2  1.226364  18.275872  17.535608   \n",
              "\n",
              "          기차 거리      면적  월세 달러  \n",
              "0      7.352495   83.61    307  \n",
              "1     15.877066   83.61    110  \n",
              "2     10.315737   78.97    369  \n",
              "3      9.797817  162.58    676  \n",
              "4     18.179806  218.32    418  \n",
              "...         ...     ...    ...  \n",
              "8687  19.535831   46.45    159  \n",
              "8688   5.039023   81.29    172  \n",
              "8689  11.109941  148.64    738  \n",
              "8690   5.679541   41.90    184  \n",
              "8691  11.251435   69.68    319  \n",
              "\n",
              "[8692 rows x 9 columns]"
            ],
            "text/html": [
              "\n",
              "  <div id=\"df-dcbc6fd9-9327-4676-b182-054879febc8f\">\n",
              "    <div class=\"colab-df-container\">\n",
              "      <div>\n",
              "<style scoped>\n",
              "    .dataframe tbody tr th:only-of-type {\n",
              "        vertical-align: middle;\n",
              "    }\n",
              "\n",
              "    .dataframe tbody tr th {\n",
              "        vertical-align: top;\n",
              "    }\n",
              "\n",
              "    .dataframe thead th {\n",
              "        text-align: right;\n",
              "    }\n",
              "</style>\n",
              "<table border=\"1\" class=\"dataframe\">\n",
              "  <thead>\n",
              "    <tr style=\"text-align: right;\">\n",
              "      <th></th>\n",
              "      <th>이름</th>\n",
              "      <th>집 종류</th>\n",
              "      <th>방 개수</th>\n",
              "      <th>지하철 거리</th>\n",
              "      <th>공항 거리</th>\n",
              "      <th>병원 거리</th>\n",
              "      <th>기차 거리</th>\n",
              "      <th>면적</th>\n",
              "      <th>월세 달러</th>\n",
              "    </tr>\n",
              "  </thead>\n",
              "  <tbody>\n",
              "    <tr>\n",
              "      <th>0</th>\n",
              "      <td>Train_0000</td>\n",
              "      <td>Apartment</td>\n",
              "      <td>3</td>\n",
              "      <td>0.312579</td>\n",
              "      <td>22.646032</td>\n",
              "      <td>11.726966</td>\n",
              "      <td>7.352495</td>\n",
              "      <td>83.61</td>\n",
              "      <td>307</td>\n",
              "    </tr>\n",
              "    <tr>\n",
              "      <th>1</th>\n",
              "      <td>Train_0001</td>\n",
              "      <td>Independent Floor</td>\n",
              "      <td>1</td>\n",
              "      <td>2.486167</td>\n",
              "      <td>13.500583</td>\n",
              "      <td>7.527761</td>\n",
              "      <td>15.877066</td>\n",
              "      <td>83.61</td>\n",
              "      <td>110</td>\n",
              "    </tr>\n",
              "    <tr>\n",
              "      <th>2</th>\n",
              "      <td>Train_0002</td>\n",
              "      <td>Independent Floor</td>\n",
              "      <td>3</td>\n",
              "      <td>1.528794</td>\n",
              "      <td>18.918243</td>\n",
              "      <td>17.135939</td>\n",
              "      <td>10.315737</td>\n",
              "      <td>78.97</td>\n",
              "      <td>369</td>\n",
              "    </tr>\n",
              "    <tr>\n",
              "      <th>3</th>\n",
              "      <td>Train_0003</td>\n",
              "      <td>Independent Floor</td>\n",
              "      <td>3</td>\n",
              "      <td>0.967121</td>\n",
              "      <td>17.749252</td>\n",
              "      <td>16.251937</td>\n",
              "      <td>9.797817</td>\n",
              "      <td>162.58</td>\n",
              "      <td>676</td>\n",
              "    </tr>\n",
              "    <tr>\n",
              "      <th>4</th>\n",
              "      <td>Train_0004</td>\n",
              "      <td>Apartment</td>\n",
              "      <td>4</td>\n",
              "      <td>0.834506</td>\n",
              "      <td>4.288189</td>\n",
              "      <td>15.541840</td>\n",
              "      <td>18.179806</td>\n",
              "      <td>218.32</td>\n",
              "      <td>418</td>\n",
              "    </tr>\n",
              "    <tr>\n",
              "      <th>...</th>\n",
              "      <td>...</td>\n",
              "      <td>...</td>\n",
              "      <td>...</td>\n",
              "      <td>...</td>\n",
              "      <td>...</td>\n",
              "      <td>...</td>\n",
              "      <td>...</td>\n",
              "      <td>...</td>\n",
              "      <td>...</td>\n",
              "    </tr>\n",
              "    <tr>\n",
              "      <th>8687</th>\n",
              "      <td>Train_8687</td>\n",
              "      <td>Apartment</td>\n",
              "      <td>1</td>\n",
              "      <td>0.005681</td>\n",
              "      <td>7.776390</td>\n",
              "      <td>18.212199</td>\n",
              "      <td>19.535831</td>\n",
              "      <td>46.45</td>\n",
              "      <td>159</td>\n",
              "    </tr>\n",
              "    <tr>\n",
              "      <th>8688</th>\n",
              "      <td>Train_8688</td>\n",
              "      <td>Apartment</td>\n",
              "      <td>1</td>\n",
              "      <td>0.007987</td>\n",
              "      <td>12.969368</td>\n",
              "      <td>9.442664</td>\n",
              "      <td>5.039023</td>\n",
              "      <td>81.29</td>\n",
              "      <td>172</td>\n",
              "    </tr>\n",
              "    <tr>\n",
              "      <th>8689</th>\n",
              "      <td>Train_8689</td>\n",
              "      <td>Independent Floor</td>\n",
              "      <td>3</td>\n",
              "      <td>0.203502</td>\n",
              "      <td>17.094466</td>\n",
              "      <td>5.468956</td>\n",
              "      <td>11.109941</td>\n",
              "      <td>148.64</td>\n",
              "      <td>738</td>\n",
              "    </tr>\n",
              "    <tr>\n",
              "      <th>8690</th>\n",
              "      <td>Train_8690</td>\n",
              "      <td>Independent Floor</td>\n",
              "      <td>1</td>\n",
              "      <td>0.248603</td>\n",
              "      <td>20.628700</td>\n",
              "      <td>9.801128</td>\n",
              "      <td>5.679541</td>\n",
              "      <td>41.90</td>\n",
              "      <td>184</td>\n",
              "    </tr>\n",
              "    <tr>\n",
              "      <th>8691</th>\n",
              "      <td>Train_8691</td>\n",
              "      <td>Independent Floor</td>\n",
              "      <td>2</td>\n",
              "      <td>1.226364</td>\n",
              "      <td>18.275872</td>\n",
              "      <td>17.535608</td>\n",
              "      <td>11.251435</td>\n",
              "      <td>69.68</td>\n",
              "      <td>319</td>\n",
              "    </tr>\n",
              "  </tbody>\n",
              "</table>\n",
              "<p>8692 rows × 9 columns</p>\n",
              "</div>\n",
              "      <button class=\"colab-df-convert\" onclick=\"convertToInteractive('df-dcbc6fd9-9327-4676-b182-054879febc8f')\"\n",
              "              title=\"Convert this dataframe to an interactive table.\"\n",
              "              style=\"display:none;\">\n",
              "        \n",
              "  <svg xmlns=\"http://www.w3.org/2000/svg\" height=\"24px\"viewBox=\"0 0 24 24\"\n",
              "       width=\"24px\">\n",
              "    <path d=\"M0 0h24v24H0V0z\" fill=\"none\"/>\n",
              "    <path d=\"M18.56 5.44l.94 2.06.94-2.06 2.06-.94-2.06-.94-.94-2.06-.94 2.06-2.06.94zm-11 1L8.5 8.5l.94-2.06 2.06-.94-2.06-.94L8.5 2.5l-.94 2.06-2.06.94zm10 10l.94 2.06.94-2.06 2.06-.94-2.06-.94-.94-2.06-.94 2.06-2.06.94z\"/><path d=\"M17.41 7.96l-1.37-1.37c-.4-.4-.92-.59-1.43-.59-.52 0-1.04.2-1.43.59L10.3 9.45l-7.72 7.72c-.78.78-.78 2.05 0 2.83L4 21.41c.39.39.9.59 1.41.59.51 0 1.02-.2 1.41-.59l7.78-7.78 2.81-2.81c.8-.78.8-2.07 0-2.86zM5.41 20L4 18.59l7.72-7.72 1.47 1.35L5.41 20z\"/>\n",
              "  </svg>\n",
              "      </button>\n",
              "      \n",
              "  <style>\n",
              "    .colab-df-container {\n",
              "      display:flex;\n",
              "      flex-wrap:wrap;\n",
              "      gap: 12px;\n",
              "    }\n",
              "\n",
              "    .colab-df-convert {\n",
              "      background-color: #E8F0FE;\n",
              "      border: none;\n",
              "      border-radius: 50%;\n",
              "      cursor: pointer;\n",
              "      display: none;\n",
              "      fill: #1967D2;\n",
              "      height: 32px;\n",
              "      padding: 0 0 0 0;\n",
              "      width: 32px;\n",
              "    }\n",
              "\n",
              "    .colab-df-convert:hover {\n",
              "      background-color: #E2EBFA;\n",
              "      box-shadow: 0px 1px 2px rgba(60, 64, 67, 0.3), 0px 1px 3px 1px rgba(60, 64, 67, 0.15);\n",
              "      fill: #174EA6;\n",
              "    }\n",
              "\n",
              "    [theme=dark] .colab-df-convert {\n",
              "      background-color: #3B4455;\n",
              "      fill: #D2E3FC;\n",
              "    }\n",
              "\n",
              "    [theme=dark] .colab-df-convert:hover {\n",
              "      background-color: #434B5C;\n",
              "      box-shadow: 0px 1px 3px 1px rgba(0, 0, 0, 0.15);\n",
              "      filter: drop-shadow(0px 1px 2px rgba(0, 0, 0, 0.3));\n",
              "      fill: #FFFFFF;\n",
              "    }\n",
              "  </style>\n",
              "\n",
              "      <script>\n",
              "        const buttonEl =\n",
              "          document.querySelector('#df-dcbc6fd9-9327-4676-b182-054879febc8f button.colab-df-convert');\n",
              "        buttonEl.style.display =\n",
              "          google.colab.kernel.accessAllowed ? 'block' : 'none';\n",
              "\n",
              "        async function convertToInteractive(key) {\n",
              "          const element = document.querySelector('#df-dcbc6fd9-9327-4676-b182-054879febc8f');\n",
              "          const dataTable =\n",
              "            await google.colab.kernel.invokeFunction('convertToInteractive',\n",
              "                                                     [key], {});\n",
              "          if (!dataTable) return;\n",
              "\n",
              "          const docLinkHtml = 'Like what you see? Visit the ' +\n",
              "            '<a target=\"_blank\" href=https://colab.research.google.com/notebooks/data_table.ipynb>data table notebook</a>'\n",
              "            + ' to learn more about interactive tables.';\n",
              "          element.innerHTML = '';\n",
              "          dataTable['output_type'] = 'display_data';\n",
              "          await google.colab.output.renderOutput(dataTable, element);\n",
              "          const docLink = document.createElement('div');\n",
              "          docLink.innerHTML = docLinkHtml;\n",
              "          element.appendChild(docLink);\n",
              "        }\n",
              "      </script>\n",
              "    </div>\n",
              "  </div>\n",
              "  "
            ]
          },
          "metadata": {},
          "execution_count": 31
        }
      ],
      "source": [
        "df = pd.read_csv(\"/content/drive/MyDrive/Ubion/월세.csv\", encoding = \"cp949\")\n",
        "df"
      ]
    },
    {
      "cell_type": "code",
      "source": [
        "df1 = df.drop([\"이름\"], axis = 1)\n",
        "df = df1"
      ],
      "metadata": {
        "id": "vP8H6_U7MLw2"
      },
      "execution_count": 32,
      "outputs": []
    },
    {
      "cell_type": "code",
      "source": [
        "df"
      ],
      "metadata": {
        "colab": {
          "base_uri": "https://localhost:8080/",
          "height": 424
        },
        "id": "BrzdEJQUMdtC",
        "outputId": "c6146d20-bea4-4233-c940-081bb2df1884"
      },
      "execution_count": 33,
      "outputs": [
        {
          "output_type": "execute_result",
          "data": {
            "text/plain": [
              "                   집 종류  방 개수    지하철 거리      공항 거리      병원 거리      기차 거리  \\\n",
              "0             Apartment     3  0.312579  22.646032  11.726966   7.352495   \n",
              "1     Independent Floor     1  2.486167  13.500583   7.527761  15.877066   \n",
              "2     Independent Floor     3  1.528794  18.918243  17.135939  10.315737   \n",
              "3     Independent Floor     3  0.967121  17.749252  16.251937   9.797817   \n",
              "4             Apartment     4  0.834506   4.288189  15.541840  18.179806   \n",
              "...                 ...   ...       ...        ...        ...        ...   \n",
              "8687          Apartment     1  0.005681   7.776390  18.212199  19.535831   \n",
              "8688          Apartment     1  0.007987  12.969368   9.442664   5.039023   \n",
              "8689  Independent Floor     3  0.203502  17.094466   5.468956  11.109941   \n",
              "8690  Independent Floor     1  0.248603  20.628700   9.801128   5.679541   \n",
              "8691  Independent Floor     2  1.226364  18.275872  17.535608  11.251435   \n",
              "\n",
              "          면적  월세 달러  \n",
              "0      83.61    307  \n",
              "1      83.61    110  \n",
              "2      78.97    369  \n",
              "3     162.58    676  \n",
              "4     218.32    418  \n",
              "...      ...    ...  \n",
              "8687   46.45    159  \n",
              "8688   81.29    172  \n",
              "8689  148.64    738  \n",
              "8690   41.90    184  \n",
              "8691   69.68    319  \n",
              "\n",
              "[8692 rows x 8 columns]"
            ],
            "text/html": [
              "\n",
              "  <div id=\"df-e619bf78-2f1a-448c-a02a-9d4478781bca\">\n",
              "    <div class=\"colab-df-container\">\n",
              "      <div>\n",
              "<style scoped>\n",
              "    .dataframe tbody tr th:only-of-type {\n",
              "        vertical-align: middle;\n",
              "    }\n",
              "\n",
              "    .dataframe tbody tr th {\n",
              "        vertical-align: top;\n",
              "    }\n",
              "\n",
              "    .dataframe thead th {\n",
              "        text-align: right;\n",
              "    }\n",
              "</style>\n",
              "<table border=\"1\" class=\"dataframe\">\n",
              "  <thead>\n",
              "    <tr style=\"text-align: right;\">\n",
              "      <th></th>\n",
              "      <th>집 종류</th>\n",
              "      <th>방 개수</th>\n",
              "      <th>지하철 거리</th>\n",
              "      <th>공항 거리</th>\n",
              "      <th>병원 거리</th>\n",
              "      <th>기차 거리</th>\n",
              "      <th>면적</th>\n",
              "      <th>월세 달러</th>\n",
              "    </tr>\n",
              "  </thead>\n",
              "  <tbody>\n",
              "    <tr>\n",
              "      <th>0</th>\n",
              "      <td>Apartment</td>\n",
              "      <td>3</td>\n",
              "      <td>0.312579</td>\n",
              "      <td>22.646032</td>\n",
              "      <td>11.726966</td>\n",
              "      <td>7.352495</td>\n",
              "      <td>83.61</td>\n",
              "      <td>307</td>\n",
              "    </tr>\n",
              "    <tr>\n",
              "      <th>1</th>\n",
              "      <td>Independent Floor</td>\n",
              "      <td>1</td>\n",
              "      <td>2.486167</td>\n",
              "      <td>13.500583</td>\n",
              "      <td>7.527761</td>\n",
              "      <td>15.877066</td>\n",
              "      <td>83.61</td>\n",
              "      <td>110</td>\n",
              "    </tr>\n",
              "    <tr>\n",
              "      <th>2</th>\n",
              "      <td>Independent Floor</td>\n",
              "      <td>3</td>\n",
              "      <td>1.528794</td>\n",
              "      <td>18.918243</td>\n",
              "      <td>17.135939</td>\n",
              "      <td>10.315737</td>\n",
              "      <td>78.97</td>\n",
              "      <td>369</td>\n",
              "    </tr>\n",
              "    <tr>\n",
              "      <th>3</th>\n",
              "      <td>Independent Floor</td>\n",
              "      <td>3</td>\n",
              "      <td>0.967121</td>\n",
              "      <td>17.749252</td>\n",
              "      <td>16.251937</td>\n",
              "      <td>9.797817</td>\n",
              "      <td>162.58</td>\n",
              "      <td>676</td>\n",
              "    </tr>\n",
              "    <tr>\n",
              "      <th>4</th>\n",
              "      <td>Apartment</td>\n",
              "      <td>4</td>\n",
              "      <td>0.834506</td>\n",
              "      <td>4.288189</td>\n",
              "      <td>15.541840</td>\n",
              "      <td>18.179806</td>\n",
              "      <td>218.32</td>\n",
              "      <td>418</td>\n",
              "    </tr>\n",
              "    <tr>\n",
              "      <th>...</th>\n",
              "      <td>...</td>\n",
              "      <td>...</td>\n",
              "      <td>...</td>\n",
              "      <td>...</td>\n",
              "      <td>...</td>\n",
              "      <td>...</td>\n",
              "      <td>...</td>\n",
              "      <td>...</td>\n",
              "    </tr>\n",
              "    <tr>\n",
              "      <th>8687</th>\n",
              "      <td>Apartment</td>\n",
              "      <td>1</td>\n",
              "      <td>0.005681</td>\n",
              "      <td>7.776390</td>\n",
              "      <td>18.212199</td>\n",
              "      <td>19.535831</td>\n",
              "      <td>46.45</td>\n",
              "      <td>159</td>\n",
              "    </tr>\n",
              "    <tr>\n",
              "      <th>8688</th>\n",
              "      <td>Apartment</td>\n",
              "      <td>1</td>\n",
              "      <td>0.007987</td>\n",
              "      <td>12.969368</td>\n",
              "      <td>9.442664</td>\n",
              "      <td>5.039023</td>\n",
              "      <td>81.29</td>\n",
              "      <td>172</td>\n",
              "    </tr>\n",
              "    <tr>\n",
              "      <th>8689</th>\n",
              "      <td>Independent Floor</td>\n",
              "      <td>3</td>\n",
              "      <td>0.203502</td>\n",
              "      <td>17.094466</td>\n",
              "      <td>5.468956</td>\n",
              "      <td>11.109941</td>\n",
              "      <td>148.64</td>\n",
              "      <td>738</td>\n",
              "    </tr>\n",
              "    <tr>\n",
              "      <th>8690</th>\n",
              "      <td>Independent Floor</td>\n",
              "      <td>1</td>\n",
              "      <td>0.248603</td>\n",
              "      <td>20.628700</td>\n",
              "      <td>9.801128</td>\n",
              "      <td>5.679541</td>\n",
              "      <td>41.90</td>\n",
              "      <td>184</td>\n",
              "    </tr>\n",
              "    <tr>\n",
              "      <th>8691</th>\n",
              "      <td>Independent Floor</td>\n",
              "      <td>2</td>\n",
              "      <td>1.226364</td>\n",
              "      <td>18.275872</td>\n",
              "      <td>17.535608</td>\n",
              "      <td>11.251435</td>\n",
              "      <td>69.68</td>\n",
              "      <td>319</td>\n",
              "    </tr>\n",
              "  </tbody>\n",
              "</table>\n",
              "<p>8692 rows × 8 columns</p>\n",
              "</div>\n",
              "      <button class=\"colab-df-convert\" onclick=\"convertToInteractive('df-e619bf78-2f1a-448c-a02a-9d4478781bca')\"\n",
              "              title=\"Convert this dataframe to an interactive table.\"\n",
              "              style=\"display:none;\">\n",
              "        \n",
              "  <svg xmlns=\"http://www.w3.org/2000/svg\" height=\"24px\"viewBox=\"0 0 24 24\"\n",
              "       width=\"24px\">\n",
              "    <path d=\"M0 0h24v24H0V0z\" fill=\"none\"/>\n",
              "    <path d=\"M18.56 5.44l.94 2.06.94-2.06 2.06-.94-2.06-.94-.94-2.06-.94 2.06-2.06.94zm-11 1L8.5 8.5l.94-2.06 2.06-.94-2.06-.94L8.5 2.5l-.94 2.06-2.06.94zm10 10l.94 2.06.94-2.06 2.06-.94-2.06-.94-.94-2.06-.94 2.06-2.06.94z\"/><path d=\"M17.41 7.96l-1.37-1.37c-.4-.4-.92-.59-1.43-.59-.52 0-1.04.2-1.43.59L10.3 9.45l-7.72 7.72c-.78.78-.78 2.05 0 2.83L4 21.41c.39.39.9.59 1.41.59.51 0 1.02-.2 1.41-.59l7.78-7.78 2.81-2.81c.8-.78.8-2.07 0-2.86zM5.41 20L4 18.59l7.72-7.72 1.47 1.35L5.41 20z\"/>\n",
              "  </svg>\n",
              "      </button>\n",
              "      \n",
              "  <style>\n",
              "    .colab-df-container {\n",
              "      display:flex;\n",
              "      flex-wrap:wrap;\n",
              "      gap: 12px;\n",
              "    }\n",
              "\n",
              "    .colab-df-convert {\n",
              "      background-color: #E8F0FE;\n",
              "      border: none;\n",
              "      border-radius: 50%;\n",
              "      cursor: pointer;\n",
              "      display: none;\n",
              "      fill: #1967D2;\n",
              "      height: 32px;\n",
              "      padding: 0 0 0 0;\n",
              "      width: 32px;\n",
              "    }\n",
              "\n",
              "    .colab-df-convert:hover {\n",
              "      background-color: #E2EBFA;\n",
              "      box-shadow: 0px 1px 2px rgba(60, 64, 67, 0.3), 0px 1px 3px 1px rgba(60, 64, 67, 0.15);\n",
              "      fill: #174EA6;\n",
              "    }\n",
              "\n",
              "    [theme=dark] .colab-df-convert {\n",
              "      background-color: #3B4455;\n",
              "      fill: #D2E3FC;\n",
              "    }\n",
              "\n",
              "    [theme=dark] .colab-df-convert:hover {\n",
              "      background-color: #434B5C;\n",
              "      box-shadow: 0px 1px 3px 1px rgba(0, 0, 0, 0.15);\n",
              "      filter: drop-shadow(0px 1px 2px rgba(0, 0, 0, 0.3));\n",
              "      fill: #FFFFFF;\n",
              "    }\n",
              "  </style>\n",
              "\n",
              "      <script>\n",
              "        const buttonEl =\n",
              "          document.querySelector('#df-e619bf78-2f1a-448c-a02a-9d4478781bca button.colab-df-convert');\n",
              "        buttonEl.style.display =\n",
              "          google.colab.kernel.accessAllowed ? 'block' : 'none';\n",
              "\n",
              "        async function convertToInteractive(key) {\n",
              "          const element = document.querySelector('#df-e619bf78-2f1a-448c-a02a-9d4478781bca');\n",
              "          const dataTable =\n",
              "            await google.colab.kernel.invokeFunction('convertToInteractive',\n",
              "                                                     [key], {});\n",
              "          if (!dataTable) return;\n",
              "\n",
              "          const docLinkHtml = 'Like what you see? Visit the ' +\n",
              "            '<a target=\"_blank\" href=https://colab.research.google.com/notebooks/data_table.ipynb>data table notebook</a>'\n",
              "            + ' to learn more about interactive tables.';\n",
              "          element.innerHTML = '';\n",
              "          dataTable['output_type'] = 'display_data';\n",
              "          await google.colab.output.renderOutput(dataTable, element);\n",
              "          const docLink = document.createElement('div');\n",
              "          docLink.innerHTML = docLinkHtml;\n",
              "          element.appendChild(docLink);\n",
              "        }\n",
              "      </script>\n",
              "    </div>\n",
              "  </div>\n",
              "  "
            ]
          },
          "metadata": {},
          "execution_count": 33
        }
      ]
    },
    {
      "cell_type": "code",
      "source": [
        "df.info()"
      ],
      "metadata": {
        "colab": {
          "base_uri": "https://localhost:8080/"
        },
        "id": "EZc-loqedUZD",
        "outputId": "237971f9-79c4-47e2-c967-c6488242bcaf"
      },
      "execution_count": 34,
      "outputs": [
        {
          "output_type": "stream",
          "name": "stdout",
          "text": [
            "<class 'pandas.core.frame.DataFrame'>\n",
            "RangeIndex: 8692 entries, 0 to 8691\n",
            "Data columns (total 8 columns):\n",
            " #   Column  Non-Null Count  Dtype  \n",
            "---  ------  --------------  -----  \n",
            " 0   집 종류    8692 non-null   object \n",
            " 1   방 개수    8692 non-null   int64  \n",
            " 2   지하철 거리  8692 non-null   float64\n",
            " 3   공항 거리   8692 non-null   float64\n",
            " 4   병원 거리   8692 non-null   float64\n",
            " 5   기차 거리   8692 non-null   float64\n",
            " 6   면적      8692 non-null   float64\n",
            " 7   월세 달러   8692 non-null   int64  \n",
            "dtypes: float64(5), int64(2), object(1)\n",
            "memory usage: 543.4+ KB\n"
          ]
        }
      ]
    },
    {
      "cell_type": "code",
      "source": [
        "df.isnull().sum()"
      ],
      "metadata": {
        "colab": {
          "base_uri": "https://localhost:8080/"
        },
        "id": "eIsKJBiZzmgR",
        "outputId": "ea3b018b-84db-4cd5-ec18-42d82a92f569"
      },
      "execution_count": 35,
      "outputs": [
        {
          "output_type": "execute_result",
          "data": {
            "text/plain": [
              "집 종류      0\n",
              "방 개수      0\n",
              "지하철 거리    0\n",
              "공항 거리     0\n",
              "병원 거리     0\n",
              "기차 거리     0\n",
              "면적        0\n",
              "월세 달러     0\n",
              "dtype: int64"
            ]
          },
          "metadata": {},
          "execution_count": 35
        }
      ]
    },
    {
      "cell_type": "code",
      "source": [
        "import seaborn as sns\n",
        "import numpy as np\n",
        "\n",
        "df[\"월세 달러\"]= np.log1p(df[\"월세 달러\"])\n",
        "sns.distplot(df[\"월세 달러\"])"
      ],
      "metadata": {
        "colab": {
          "base_uri": "https://localhost:8080/",
          "height": 355
        },
        "id": "UHM1sg6q2ymh",
        "outputId": "397bfaf4-44ea-4c00-d61c-d4887092fdab"
      },
      "execution_count": 36,
      "outputs": [
        {
          "output_type": "stream",
          "name": "stderr",
          "text": [
            "/usr/local/lib/python3.8/dist-packages/seaborn/distributions.py:2619: FutureWarning: `distplot` is a deprecated function and will be removed in a future version. Please adapt your code to use either `displot` (a figure-level function with similar flexibility) or `histplot` (an axes-level function for histograms).\n",
            "  warnings.warn(msg, FutureWarning)\n"
          ]
        },
        {
          "output_type": "execute_result",
          "data": {
            "text/plain": [
              "<matplotlib.axes._subplots.AxesSubplot at 0x7fae93975c10>"
            ]
          },
          "metadata": {},
          "execution_count": 36
        },
        {
          "output_type": "display_data",
          "data": {
            "text/plain": [
              "<Figure size 432x288 with 1 Axes>"
            ],
            "image/png": "[encoded data removed]"
          },
          "metadata": {
            "needs_background": "light"
          }
        }
      ]
    },
    {
      "cell_type": "code",
      "source": [
        "df.boxplot(column = \"월세 달러\", return_type=\"both\")"
      ],
      "metadata": {
        "colab": {
          "base_uri": "https://localhost:8080/",
          "height": 321
        },
        "id": "qmciUbDPkyiT",
        "outputId": "bb87d03b-c4ad-4c8e-b304-23d7b7fbbcce"
      },
      "execution_count": 37,
      "outputs": [
        {
          "output_type": "execute_result",
          "data": {
            "text/plain": [
              "BP(ax=<matplotlib.axes._subplots.AxesSubplot object at 0x7fae937f2940>, lines={'whiskers': [<matplotlib.lines.Line2D object at 0x7fae937aadf0>, <matplotlib.lines.Line2D object at 0x7fae9377a190>], 'caps': [<matplotlib.lines.Line2D object at 0x7fae9377a4f0>, <matplotlib.lines.Line2D object at 0x7fae9377a850>], 'boxes': [<matplotlib.lines.Line2D object at 0x7fae937aaa90>], 'medians': [<matplotlib.lines.Line2D object at 0x7fae9377abb0>], 'fliers': [<matplotlib.lines.Line2D object at 0x7fae9377aeb0>], 'means': []})"
            ]
          },
          "metadata": {},
          "execution_count": 37
        },
        {
          "output_type": "display_data",
          "data": {
            "text/plain": [
              "<Figure size 432x288 with 1 Axes>"
            ],
            "image/png": "[encoded data removed]"
          },
          "metadata": {
            "needs_background": "light"
          }
        }
      ]
    },
    {
      "cell_type": "code",
      "source": [
        "q1 = df[\"월세 달러\"].quantile(q=0.25)\n",
        "q3 = df[\"월세 달러\"].quantile(q=0.75)\n",
        "IQR = q3-q1\n",
        "IQR"
      ],
      "metadata": {
        "colab": {
          "base_uri": "https://localhost:8080/"
        },
        "id": "_8QC3p3kkttt",
        "outputId": "438ee290-1736-46de-a918-0d469de40802"
      },
      "execution_count": 38,
      "outputs": [
        {
          "output_type": "execute_result",
          "data": {
            "text/plain": [
              "0.9011770940641073"
            ]
          },
          "metadata": {},
          "execution_count": 38
        }
      ]
    },
    {
      "cell_type": "code",
      "source": [
        "data_IQR = df[(df[\"월세 달러\"]< q3 + IQR * 1.5) & (df[\"월세 달러\"]> q1 - IQR*1.5)]\n",
        "data_IQR"
      ],
      "metadata": {
        "colab": {
          "base_uri": "https://localhost:8080/",
          "height": 424
        },
        "id": "Ip8eZC_tk5Bw",
        "outputId": "ddcb7a1e-b96e-405c-c372-cab594efab29"
      },
      "execution_count": 39,
      "outputs": [
        {
          "output_type": "execute_result",
          "data": {
            "text/plain": [
              "                   집 종류  방 개수    지하철 거리      공항 거리      병원 거리      기차 거리  \\\n",
              "0             Apartment     3  0.312579  22.646032  11.726966   7.352495   \n",
              "1     Independent Floor     1  2.486167  13.500583   7.527761  15.877066   \n",
              "2     Independent Floor     3  1.528794  18.918243  17.135939  10.315737   \n",
              "3     Independent Floor     3  0.967121  17.749252  16.251937   9.797817   \n",
              "4             Apartment     4  0.834506   4.288189  15.541840  18.179806   \n",
              "...                 ...   ...       ...        ...        ...        ...   \n",
              "8687          Apartment     1  0.005681   7.776390  18.212199  19.535831   \n",
              "8688          Apartment     1  0.007987  12.969368   9.442664   5.039023   \n",
              "8689  Independent Floor     3  0.203502  17.094466   5.468956  11.109941   \n",
              "8690  Independent Floor     1  0.248603  20.628700   9.801128   5.679541   \n",
              "8691  Independent Floor     2  1.226364  18.275872  17.535608  11.251435   \n",
              "\n",
              "          면적     월세 달러  \n",
              "0      83.61  5.730100  \n",
              "1      83.61  4.709530  \n",
              "2      78.97  5.913503  \n",
              "3     162.58  6.517671  \n",
              "4     218.32  6.037871  \n",
              "...      ...       ...  \n",
              "8687   46.45  5.075174  \n",
              "8688   81.29  5.153292  \n",
              "8689  148.64  6.605298  \n",
              "8690   41.90  5.220356  \n",
              "8691   69.68  5.768321  \n",
              "\n",
              "[8688 rows x 8 columns]"
            ],
            "text/html": [
              "\n",
              "  <div id=\"df-a6a1da5f-3d44-455f-8f86-3f294e1a3244\">\n",
              "    <div class=\"colab-df-container\">\n",
              "      <div>\n",
              "<style scoped>\n",
              "    .dataframe tbody tr th:only-of-type {\n",
              "        vertical-align: middle;\n",
              "    }\n",
              "\n",
              "    .dataframe tbody tr th {\n",
              "        vertical-align: top;\n",
              "    }\n",
              "\n",
              "    .dataframe thead th {\n",
              "        text-align: right;\n",
              "    }\n",
              "</style>\n",
              "<table border=\"1\" class=\"dataframe\">\n",
              "  <thead>\n",
              "    <tr style=\"text-align: right;\">\n",
              "      <th></th>\n",
              "      <th>집 종류</th>\n",
              "      <th>방 개수</th>\n",
              "      <th>지하철 거리</th>\n",
              "      <th>공항 거리</th>\n",
              "      <th>병원 거리</th>\n",
              "      <th>기차 거리</th>\n",
              "      <th>면적</th>\n",
              "      <th>월세 달러</th>\n",
              "    </tr>\n",
              "  </thead>\n",
              "  <tbody>\n",
              "    <tr>\n",
              "      <th>0</th>\n",
              "      <td>Apartment</td>\n",
              "      <td>3</td>\n",
              "      <td>0.312579</td>\n",
              "      <td>22.646032</td>\n",
              "      <td>11.726966</td>\n",
              "      <td>7.352495</td>\n",
              "      <td>83.61</td>\n",
              "      <td>5.730100</td>\n",
              "    </tr>\n",
              "    <tr>\n",
              "      <th>1</th>\n",
              "      <td>Independent Floor</td>\n",
              "      <td>1</td>\n",
              "      <td>2.486167</td>\n",
              "      <td>13.500583</td>\n",
              "      <td>7.527761</td>\n",
              "      <td>15.877066</td>\n",
              "      <td>83.61</td>\n",
              "      <td>4.709530</td>\n",
              "    </tr>\n",
              "    <tr>\n",
              "      <th>2</th>\n",
              "      <td>Independent Floor</td>\n",
              "      <td>3</td>\n",
              "      <td>1.528794</td>\n",
              "      <td>18.918243</td>\n",
              "      <td>17.135939</td>\n",
              "      <td>10.315737</td>\n",
              "      <td>78.97</td>\n",
              "      <td>5.913503</td>\n",
              "    </tr>\n",
              "    <tr>\n",
              "      <th>3</th>\n",
              "      <td>Independent Floor</td>\n",
              "      <td>3</td>\n",
              "      <td>0.967121</td>\n",
              "      <td>17.749252</td>\n",
              "      <td>16.251937</td>\n",
              "      <td>9.797817</td>\n",
              "      <td>162.58</td>\n",
              "      <td>6.517671</td>\n",
              "    </tr>\n",
              "    <tr>\n",
              "      <th>4</th>\n",
              "      <td>Apartment</td>\n",
              "      <td>4</td>\n",
              "      <td>0.834506</td>\n",
              "      <td>4.288189</td>\n",
              "      <td>15.541840</td>\n",
              "      <td>18.179806</td>\n",
              "      <td>218.32</td>\n",
              "      <td>6.037871</td>\n",
              "    </tr>\n",
              "    <tr>\n",
              "      <th>...</th>\n",
              "      <td>...</td>\n",
              "      <td>...</td>\n",
              "      <td>...</td>\n",
              "      <td>...</td>\n",
              "      <td>...</td>\n",
              "      <td>...</td>\n",
              "      <td>...</td>\n",
              "      <td>...</td>\n",
              "    </tr>\n",
              "    <tr>\n",
              "      <th>8687</th>\n",
              "      <td>Apartment</td>\n",
              "      <td>1</td>\n",
              "      <td>0.005681</td>\n",
              "      <td>7.776390</td>\n",
              "      <td>18.212199</td>\n",
              "      <td>19.535831</td>\n",
              "      <td>46.45</td>\n",
              "      <td>5.075174</td>\n",
              "    </tr>\n",
              "    <tr>\n",
              "      <th>8688</th>\n",
              "      <td>Apartment</td>\n",
              "      <td>1</td>\n",
              "      <td>0.007987</td>\n",
              "      <td>12.969368</td>\n",
              "      <td>9.442664</td>\n",
              "      <td>5.039023</td>\n",
              "      <td>81.29</td>\n",
              "      <td>5.153292</td>\n",
              "    </tr>\n",
              "    <tr>\n",
              "      <th>8689</th>\n",
              "      <td>Independent Floor</td>\n",
              "      <td>3</td>\n",
              "      <td>0.203502</td>\n",
              "      <td>17.094466</td>\n",
              "      <td>5.468956</td>\n",
              "      <td>11.109941</td>\n",
              "      <td>148.64</td>\n",
              "      <td>6.605298</td>\n",
              "    </tr>\n",
              "    <tr>\n",
              "      <th>8690</th>\n",
              "      <td>Independent Floor</td>\n",
              "      <td>1</td>\n",
              "      <td>0.248603</td>\n",
              "      <td>20.628700</td>\n",
              "      <td>9.801128</td>\n",
              "      <td>5.679541</td>\n",
              "      <td>41.90</td>\n",
              "      <td>5.220356</td>\n",
              "    </tr>\n",
              "    <tr>\n",
              "      <th>8691</th>\n",
              "      <td>Independent Floor</td>\n",
              "      <td>2</td>\n",
              "      <td>1.226364</td>\n",
              "      <td>18.275872</td>\n",
              "      <td>17.535608</td>\n",
              "      <td>11.251435</td>\n",
              "      <td>69.68</td>\n",
              "      <td>5.768321</td>\n",
              "    </tr>\n",
              "  </tbody>\n",
              "</table>\n",
              "<p>8688 rows × 8 columns</p>\n",
              "</div>\n",
              "      <button class=\"colab-df-convert\" onclick=\"convertToInteractive('df-a6a1da5f-3d44-455f-8f86-3f294e1a3244')\"\n",
              "              title=\"Convert this dataframe to an interactive table.\"\n",
              "              style=\"display:none;\">\n",
              "        \n",
              "  <svg xmlns=\"http://www.w3.org/2000/svg\" height=\"24px\"viewBox=\"0 0 24 24\"\n",
              "       width=\"24px\">\n",
              "    <path d=\"M0 0h24v24H0V0z\" fill=\"none\"/>\n",
              "    <path d=\"M18.56 5.44l.94 2.06.94-2.06 2.06-.94-2.06-.94-.94-2.06-.94 2.06-2.06.94zm-11 1L8.5 8.5l.94-2.06 2.06-.94-2.06-.94L8.5 2.5l-.94 2.06-2.06.94zm10 10l.94 2.06.94-2.06 2.06-.94-2.06-.94-.94-2.06-.94 2.06-2.06.94z\"/><path d=\"M17.41 7.96l-1.37-1.37c-.4-.4-.92-.59-1.43-.59-.52 0-1.04.2-1.43.59L10.3 9.45l-7.72 7.72c-.78.78-.78 2.05 0 2.83L4 21.41c.39.39.9.59 1.41.59.51 0 1.02-.2 1.41-.59l7.78-7.78 2.81-2.81c.8-.78.8-2.07 0-2.86zM5.41 20L4 18.59l7.72-7.72 1.47 1.35L5.41 20z\"/>\n",
              "  </svg>\n",
              "      </button>\n",
              "      \n",
              "  <style>\n",
              "    .colab-df-container {\n",
              "      display:flex;\n",
              "      flex-wrap:wrap;\n",
              "      gap: 12px;\n",
              "    }\n",
              "\n",
              "    .colab-df-convert {\n",
              "      background-color: #E8F0FE;\n",
              "      border: none;\n",
              "      border-radius: 50%;\n",
              "      cursor: pointer;\n",
              "      display: none;\n",
              "      fill: #1967D2;\n",
              "      height: 32px;\n",
              "      padding: 0 0 0 0;\n",
              "      width: 32px;\n",
              "    }\n",
              "\n",
              "    .colab-df-convert:hover {\n",
              "      background-color: #E2EBFA;\n",
              "      box-shadow: 0px 1px 2px rgba(60, 64, 67, 0.3), 0px 1px 3px 1px rgba(60, 64, 67, 0.15);\n",
              "      fill: #174EA6;\n",
              "    }\n",
              "\n",
              "    [theme=dark] .colab-df-convert {\n",
              "      background-color: #3B4455;\n",
              "      fill: #D2E3FC;\n",
              "    }\n",
              "\n",
              "    [theme=dark] .colab-df-convert:hover {\n",
              "      background-color: #434B5C;\n",
              "      box-shadow: 0px 1px 3px 1px rgba(0, 0, 0, 0.15);\n",
              "      filter: drop-shadow(0px 1px 2px rgba(0, 0, 0, 0.3));\n",
              "      fill: #FFFFFF;\n",
              "    }\n",
              "  </style>\n",
              "\n",
              "      <script>\n",
              "        const buttonEl =\n",
              "          document.querySelector('#df-a6a1da5f-3d44-455f-8f86-3f294e1a3244 button.colab-df-convert');\n",
              "        buttonEl.style.display =\n",
              "          google.colab.kernel.accessAllowed ? 'block' : 'none';\n",
              "\n",
              "        async function convertToInteractive(key) {\n",
              "          const element = document.querySelector('#df-a6a1da5f-3d44-455f-8f86-3f294e1a3244');\n",
              "          const dataTable =\n",
              "            await google.colab.kernel.invokeFunction('convertToInteractive',\n",
              "                                                     [key], {});\n",
              "          if (!dataTable) return;\n",
              "\n",
              "          const docLinkHtml = 'Like what you see? Visit the ' +\n",
              "            '<a target=\"_blank\" href=https://colab.research.google.com/notebooks/data_table.ipynb>data table notebook</a>'\n",
              "            + ' to learn more about interactive tables.';\n",
              "          element.innerHTML = '';\n",
              "          dataTable['output_type'] = 'display_data';\n",
              "          await google.colab.output.renderOutput(dataTable, element);\n",
              "          const docLink = document.createElement('div');\n",
              "          docLink.innerHTML = docLinkHtml;\n",
              "          element.appendChild(docLink);\n",
              "        }\n",
              "      </script>\n",
              "    </div>\n",
              "  </div>\n",
              "  "
            ]
          },
          "metadata": {},
          "execution_count": 39
        }
      ]
    },
    {
      "cell_type": "code",
      "source": [
        "data_IQR[\"월세 달러\"]= np.log1p(data_IQR[\"월세 달러\"])\n",
        "sns.distplot(data_IQR[\"월세 달러\"])\n",
        "\n",
        "df[\"월세 달러\"]= np.log(df[\"월세 달러\"])\n",
        "sns.distplot(df[\"월세 달러\"]) \n",
        "#주황색 : IQR 적용 전 월세 / 파랑색 : IQR 적용 후 월세"
      ],
      "metadata": {
        "colab": {
          "base_uri": "https://localhost:8080/",
          "height": 508
        },
        "id": "RsZS-Yvvk-NN",
        "outputId": "07fb517f-ea12-493a-dac8-08978532ab82"
      },
      "execution_count": 40,
      "outputs": [
        {
          "output_type": "stream",
          "name": "stderr",
          "text": [
            "<ipython-input-40-d7752a523f0c>:1: SettingWithCopyWarning: \n",
            "A value is trying to be set on a copy of a slice from a DataFrame.\n",
            "Try using .loc[row_indexer,col_indexer] = value instead\n",
            "\n",
            "See the caveats in the documentation: https://pandas.pydata.org/pandas-docs/stable/user_guide/indexing.html#returning-a-view-versus-a-copy\n",
            "  data_IQR[\"월세 달러\"]= np.log1p(data_IQR[\"월세 달러\"])\n",
            "/usr/local/lib/python3.8/dist-packages/seaborn/distributions.py:2619: FutureWarning: `distplot` is a deprecated function and will be removed in a future version. Please adapt your code to use either `displot` (a figure-level function with similar flexibility) or `histplot` (an axes-level function for histograms).\n",
            "  warnings.warn(msg, FutureWarning)\n",
            "/usr/local/lib/python3.8/dist-packages/seaborn/distributions.py:2619: FutureWarning: `distplot` is a deprecated function and will be removed in a future version. Please adapt your code to use either `displot` (a figure-level function with similar flexibility) or `histplot` (an axes-level function for histograms).\n",
            "  warnings.warn(msg, FutureWarning)\n"
          ]
        },
        {
          "output_type": "execute_result",
          "data": {
            "text/plain": [
              "<matplotlib.axes._subplots.AxesSubplot at 0x7fae93712dc0>"
            ]
          },
          "metadata": {},
          "execution_count": 40
        },
        {
          "output_type": "display_data",
          "data": {
            "text/plain": [
              "<Figure size 432x288 with 1 Axes>"
            ],
            "image/png": "[encoded data removed]"
          },
          "metadata": {
            "needs_background": "light"
          }
        }
      ]
    },
    {
      "cell_type": "code",
      "source": [
        "from sklearn.model_selection import train_test_split\n",
        "from sklearn.compose import ColumnTransformer\n",
        "from sklearn.preprocessing import StandardScaler\n",
        "from sklearn.preprocessing import OneHotEncoder\n",
        "\n",
        "num=[\"지하철 거리\",\"공항 거리\",\"병원 거리\",\"기차 거리\",\"면적\"]\n",
        "cg=[\"집 종류\",\"방 개수\"]\n",
        "\n",
        "X = df[num+cg]\n",
        "Y = df[\"월세 달러\"]\n",
        "\n",
        "X_train,X_test,Y_train,Y_test = train_test_split(X,Y, test_size=0.3, random_state=0)\n",
        "\n",
        "ct = ColumnTransformer([('scling', StandardScaler(), num), ('onehot', OneHotEncoder(sparse = False), cg)])\n",
        "ct.fit(X_train,Y_train)\n",
        "X_train = ct.transform(X_train)\n",
        "X_test = ct.transform(X_test)\n",
        "\n",
        "print(X_train[0])"
      ],
      "metadata": {
        "colab": {
          "base_uri": "https://localhost:8080/"
        },
        "id": "to-WkfnvlFtw",
        "outputId": "a599d14c-3c31-46e1-e3b0-21f4df47cf94"
      },
      "execution_count": 41,
      "outputs": [
        {
          "output_type": "stream",
          "name": "stdout",
          "text": [
            "[-0.35173434  1.40638919 -0.39062455 -0.55836528  0.6221927   1.\n",
            "  0.          0.          0.          0.          0.          1.\n",
            "  0.          0.          0.          0.        ]\n"
          ]
        }
      ]
    },
    {
      "cell_type": "markdown",
      "source": [
        "#선형 회귀"
      ],
      "metadata": {
        "id": "g4_bknPKpgbv"
      }
    },
    {
      "cell_type": "code",
      "source": [
        "from sklearn.linear_model import LinearRegression\n",
        "from sklearn.metrics import mean_squared_error\n",
        "from math import sqrt\n",
        "lr = LinearRegression().fit(X_train, Y_train) #선형회귀\n",
        "\n",
        "Y_pred = lr.predict(X_test)\n",
        "print(\"predict value\\n\", Y_pred)\n",
        "print(\"train R2 : {:.3f}\".format(lr.score(X_train, Y_train)))\n",
        "print(\"test R2 : {:.3f}\".format(lr.score(X_test, Y_test)))\n",
        "\n",
        "rmse = sqrt(mean_squared_error(Y_test, Y_pred))\n",
        "print(\"RMSE: {:.3f}\".format(rmse))"
      ],
      "metadata": {
        "colab": {
          "base_uri": "https://localhost:8080/"
        },
        "id": "yvgDhEAJlQzz",
        "outputId": "37ced02a-7471-40bc-daf8-fa704caf2336"
      },
      "execution_count": 42,
      "outputs": [
        {
          "output_type": "stream",
          "name": "stdout",
          "text": [
            "predict value\n",
            " [1.65773264 1.68609162 1.82410788 ... 1.77530844 1.81641215 1.60312507]\n",
            "train R2 : 0.703\n",
            "test R2 : -0.164\n",
            "RMSE: 0.125\n"
          ]
        }
      ]
    },
    {
      "cell_type": "code",
      "source": [
        "print(\"절편\", np.round(lr.intercept_, 3))\n",
        "print(\"가중치(beta)\", np.round(lr.coef_, 3))"
      ],
      "metadata": {
        "colab": {
          "base_uri": "https://localhost:8080/"
        },
        "id": "0NWgf6y-lTBx",
        "outputId": "e83634fe-c8bd-4584-af8c-3e3f5cbe58f0"
      },
      "execution_count": 43,
      "outputs": [
        {
          "output_type": "stream",
          "name": "stdout",
          "text": [
            "절편 1.664\n",
            "가중치(beta) [ 0.002 -0.013 -0.016 -0.024  0.064  0.017  0.02   0.003 -0.04  -0.029\n",
            "  0.034  0.072  0.059 -0.025  0.204 -0.315]\n"
          ]
        }
      ]
    },
    {
      "cell_type": "markdown",
      "source": [
        "#K-NN (K-최근접 이웃)"
      ],
      "metadata": {
        "id": "OFwpZnC0nr7M"
      }
    },
    {
      "cell_type": "code",
      "source": [
        "import numpy as np\n",
        "\n",
        "num=[\"지하철 거리\",\"공항 거리\",\"병원 거리\",\"기차 거리\",\"면적\"]\n",
        "cg=[\"집 종류\",\"방 개수\"]\n",
        "\n",
        "X = df[num+cg]\n",
        "Y = df[\"월세 달러\"]\n",
        "\n",
        "X_train,X_test,Y_train,Y_test = train_test_split(X,Y, test_size=0.3, random_state=0)\n",
        "\n",
        "ct = ColumnTransformer([('scling', StandardScaler(), num), ('onehot', OneHotEncoder(sparse = False), cg)])\n",
        "ct.fit(X_train,Y_train)\n",
        "X_test = ct.transform(X_test)\n",
        "X_train = ct.transform(X_train)\n",
        "\n",
        "from sklearn.neighbors import KNeighborsRegressor\n",
        "knn_reg = KNeighborsRegressor(n_neighbors = 9, p=2)\n",
        "#p : int, default=2\n",
        "#power parameter for the minkowski metric. when p =1\n",
        "#this is equivalent to using manhattan_distance(l1), and euclidean_distance(l2) for p=2, For arbitary p,minkowski distance\n",
        "# 1은 맨하탄 2는 유클리디안 \n",
        "\n",
        "knn_reg.fit(X_train,Y_train)\n",
        "Y_pred = knn_reg.predict(X_test)\n",
        "print(\"accuracy: {:.3f}\".format(knn_reg.score(X_train,Y_train)))\n",
        "rmse = sqrt(mean_squared_error(Y_test,Y_pred))\n",
        "print(\"RMSE {:.3f}\".format(rmse))"
      ],
      "metadata": {
        "colab": {
          "base_uri": "https://localhost:8080/"
        },
        "id": "yyfZjSBKlUvJ",
        "outputId": "762b81af-8234-4f53-b7dc-d731eb4e8e5c"
      },
      "execution_count": 44,
      "outputs": [
        {
          "output_type": "stream",
          "name": "stdout",
          "text": [
            "accuracy: 0.839\n",
            "RMSE 0.052\n"
          ]
        }
      ]
    },
    {
      "cell_type": "markdown",
      "source": [
        "아래 그래프로 양의 상관관계 확인"
      ],
      "metadata": {
        "id": "CrJ3hXHVoIlh"
      }
    },
    {
      "cell_type": "code",
      "source": [
        "import matplotlib.pyplot as plt\n",
        "plt.scatter(Y_test,Y_pred, alpha=0.4)\n",
        "plt.xlabel(\"다양한 변수\")\n",
        "plt.ylabel(\"월세\")\n",
        "plt.title(\"변수와 월세의 상관관계\")\n",
        "plt.show()"
      ],
      "metadata": {
        "colab": {
          "base_uri": "https://localhost:8080/",
          "height": 294
        },
        "id": "GiLgvIoDlbz1",
        "outputId": "46c59b01-a84a-4bca-af4a-6d4dcea9fe8f"
      },
      "execution_count": 45,
      "outputs": [
        {
          "output_type": "display_data",
          "data": {
            "text/plain": [
              "<Figure size 432x288 with 1 Axes>"
            ],
            "image/png": "[encoded data removed]"
          },
          "metadata": {
            "needs_background": "light"
          }
        }
      ]
    },
    {
      "cell_type": "markdown",
      "source": [
        "#의사결정나무 (회귀)"
      ],
      "metadata": {
        "id": "TJtpjv1Xn9GX"
      }
    },
    {
      "cell_type": "code",
      "source": [
        "from sklearn.model_selection import train_test_split\n",
        "from sklearn.compose import ColumnTransformer\n",
        "from sklearn.preprocessing import StandardScaler\n",
        "from sklearn.preprocessing import OneHotEncoder\n",
        "from sklearn.tree import DecisionTreeRegressor\n",
        "\n",
        "num = ['지하철 거리', '공항 거리', '병원 거리', '기차 거리', '면적']\n",
        "cg = ['방 개수','집 종류']\n",
        "\n",
        "X = df[num+cg]\n",
        "Y = df[\"월세 달러\"]\n",
        "\n",
        "X_train, X_test, Y_train, Y_test = train_test_split(X,Y,test_size=0.3, random_state=0)\n",
        "\n",
        "#표준화,원핫인코딩\n",
        "ct = ColumnTransformer([('scling', StandardScaler(),num),('onehot',OneHotEncoder(sparse = False), cg)])\n",
        "ct.fit(X_train)\n",
        "X_train = ct.transform(X_train)\n",
        "X_test = ct.transform(X_test)\n",
        "\n",
        "#numeric values(Y)\n",
        "DT_model_reg = DecisionTreeRegressor(random_state = 0, max_depth = 5) #depth 가장 적절히 찾아서 분류\n",
        "DT_model_reg.fit(X_train, Y_train)\n",
        "Y_pred = DT_model_reg.predict(X_test)\n",
        "print(\"accuracy : {:.3f}\".format(DT_model_reg.score(X_train, Y_train)))\n",
        "rmse = sqrt(mean_squared_error(Y_test, Y_pred))\n",
        "print(\"rmse : {:.3f}\".format(rmse))"
      ],
      "metadata": {
        "colab": {
          "base_uri": "https://localhost:8080/"
        },
        "id": "zk4fwqOXMrKj",
        "outputId": "93a39b28-f92a-4884-f927-4c44ea6024ca"
      },
      "execution_count": 46,
      "outputs": [
        {
          "output_type": "stream",
          "name": "stdout",
          "text": [
            "accuracy : 0.759\n",
            "rmse : 0.058\n"
          ]
        }
      ]
    },
    {
      "cell_type": "markdown",
      "source": [
        "아래 내용으로 면적이 월세 달러와 가장 큰 상관관계 있음을 알 수 있다."
      ],
      "metadata": {
        "id": "8ETIGikForVO"
      }
    },
    {
      "cell_type": "code",
      "source": [
        "feature_name = ['지하철 거리', '공항 거리', '병원 거리', '기차 거리', '면적', '방 개수1', '방 개수2','방 개수3','방 개수4', '방 개수5', '방 개수6', '방 개수8', '집 종류1','집 종류2','집 종류3','집 종류4']\n",
        "#방개수 1,2,3,4,5,6,8  / 집 종류 4가지 여서 데이터 각각 넣음\n",
        "feature_importance = DT_model_reg.feature_importances_  #어느 모델에 넣어도 나옴(회귀 빼고)\n",
        "sorted(zip(feature_importance, feature_name), reverse = True)  #변수의 중요도/ 높을수록 중요(0은 상관없다는 뜻)"
      ],
      "metadata": {
        "colab": {
          "base_uri": "https://localhost:8080/"
        },
        "id": "kQYYq4_zT1ma",
        "outputId": "0647e4f8-062e-4306-fae1-5119798f2c46"
      },
      "execution_count": 47,
      "outputs": [
        {
          "output_type": "execute_result",
          "data": {
            "text/plain": [
              "[(0.8438470651318679, '면적'),\n",
              " (0.05206388789524567, '병원 거리'),\n",
              " (0.04895829552509566, '기차 거리'),\n",
              " (0.03907965464909748, '공항 거리'),\n",
              " (0.01057880765473734, '방 개수1'),\n",
              " (0.0029645413993780053, '방 개수3'),\n",
              " (0.0015550042087645849, '지하철 거리'),\n",
              " (0.0008739206775914055, '방 개수2'),\n",
              " (7.882285822195872e-05, '집 종류3'),\n",
              " (0.0, '집 종류4'),\n",
              " (0.0, '집 종류2'),\n",
              " (0.0, '집 종류1'),\n",
              " (0.0, '방 개수8'),\n",
              " (0.0, '방 개수6'),\n",
              " (0.0, '방 개수5'),\n",
              " (0.0, '방 개수4')]"
            ]
          },
          "metadata": {},
          "execution_count": 47
        }
      ]
    },
    {
      "cell_type": "markdown",
      "source": [
        "#의사결정나무 그래프 확인"
      ],
      "metadata": {
        "id": "CtbXkk-gof_Z"
      }
    },
    {
      "cell_type": "code",
      "source": [
        "from sklearn.tree import export_graphviz\n",
        "import graphviz\n",
        "\n",
        "#파일생성\n",
        "export_graphviz(DT_model_reg, out_file = \"tree.dot\", feature_names = feature_name, impurity = True, filled = True)\n",
        "\n",
        "#파일열기\n",
        "with open(\"tree.dot\", encoding = \"utf-8\") as f:\n",
        "    dot_graph = f.read()\n",
        "graphviz.Source(dot_graph)"
      ],
      "metadata": {
        "colab": {
          "base_uri": "https://localhost:8080/",
          "height": 814
        },
        "id": "qVTtza6uTmiq",
        "outputId": "7f70c6fe-fd5d-469f-badf-8cfdf69c1224"
      },
      "execution_count": 48,
      "outputs": [
        {
          "output_type": "execute_result",
          "data": {
            "text/plain": [
              "<graphviz.files.Source at 0x7fae9364a8b0>"
            ],
            "image/svg+xml": "<?xml version=\"1.0\" encoding=\"UTF-8\" standalone=\"no\"?>\n<!DOCTYPE svg PUBLIC \"-//W3C//DTD SVG 1.1//EN\"\n \"http://www.w3.org/Graphics/SVG/1.1/DTD/svg11.dtd\">\n<!-- Generated by graphviz version 2.40.1 (20161225.0304)\n -->\n<!-- Title: Tree Pages: 1 -->\n<svg width=\"5686pt\" height=\"581pt\"\n viewBox=\"0.00 0.00 5686.00 581.00\" xmlns=\"http://www.w3.org/2000/svg\" xmlns:xlink=\"http://www.w3.org/1999/xlink\">\n<g id=\"graph0\" class=\"graph\" transform=\"scale(1 1) rotate(0) translate(4 577)\">\n<title>Tree</title>\n<polygon fill=\"#ffffff\" stroke=\"transparent\" points=\"-4,4 -4,-577 5682,-577 5682,4 -4,4\"/>\n<!-- 0 -->\n<g id=\"node1\" class=\"node\">\n<title>0</title>\n<polygon fill=\"#efb083\" stroke=\"#000000\" points=\"3268,-573 3107,-573 3107,-505 3268,-505 3268,-573\"/>\n<text text-anchor=\"middle\" x=\"3187.5\" y=\"-557.8\" font-family=\"Helvetica,sans-Serif\" font-size=\"14.00\" fill=\"#000000\">면적 &lt;= &#45;0.324</text>\n<text text-anchor=\"middle\" x=\"3187.5\" y=\"-542.8\" font-family=\"Helvetica,sans-Serif\" font-size=\"14.00\" fill=\"#000000\">squared_error = 0.013</text>\n<text text-anchor=\"middle\" x=\"3187.5\" y=\"-527.8\" font-family=\"Helvetica,sans-Serif\" font-size=\"14.00\" fill=\"#000000\">samples = 6084</text>\n<text text-anchor=\"middle\" x=\"3187.5\" y=\"-512.8\" font-family=\"Helvetica,sans-Serif\" font-size=\"14.00\" fill=\"#000000\">value = 1.71</text>\n</g>\n<!-- 1 -->\n<g id=\"node2\" class=\"node\">\n<title>1</title>\n<polygon fill=\"#f3c3a1\" stroke=\"#000000\" points=\"2300,-469 2139,-469 2139,-401 2300,-401 2300,-469\"/>\n<text text-anchor=\"middle\" x=\"2219.5\" y=\"-453.8\" font-family=\"Helvetica,sans-Serif\" font-size=\"14.00\" fill=\"#000000\">면적 &lt;= &#45;0.8</text>\n<text text-anchor=\"middle\" x=\"2219.5\" y=\"-438.8\" font-family=\"Helvetica,sans-Serif\" font-size=\"14.00\" fill=\"#000000\">squared_error = 0.007</text>\n<text text-anchor=\"middle\" x=\"2219.5\" y=\"-423.8\" font-family=\"Helvetica,sans-Serif\" font-size=\"14.00\" fill=\"#000000\">samples = 2584</text>\n<text text-anchor=\"middle\" x=\"2219.5\" y=\"-408.8\" font-family=\"Helvetica,sans-Serif\" font-size=\"14.00\" fill=\"#000000\">value = 1.619</text>\n</g>\n<!-- 0&#45;&gt;1 -->\n<g id=\"edge1\" class=\"edge\">\n<title>0&#45;&gt;1</title>\n<path fill=\"none\" stroke=\"#000000\" d=\"M3106.6338,-530.3119C2927.4913,-511.0652 2498.2341,-464.9466 2310.2621,-444.7513\"/>\n<polygon fill=\"#000000\" stroke=\"#000000\" points=\"2310.4515,-441.2516 2300.1348,-443.6632 2309.7037,-448.2115 2310.4515,-441.2516\"/>\n<text text-anchor=\"middle\" x=\"2315.8229\" y=\"-459.4281\" font-family=\"Helvetica,sans-Serif\" font-size=\"14.00\" fill=\"#000000\">True</text>\n</g>\n<!-- 32 -->\n<g id=\"node33\" class=\"node\">\n<title>32</title>\n<polygon fill=\"#eca26d\" stroke=\"#000000\" points=\"3531,-469 3370,-469 3370,-401 3531,-401 3531,-469\"/>\n<text text-anchor=\"middle\" x=\"3450.5\" y=\"-453.8\" font-family=\"Helvetica,sans-Serif\" font-size=\"14.00\" fill=\"#000000\">면적 &lt;= 0.364</text>\n<text text-anchor=\"middle\" x=\"3450.5\" y=\"-438.8\" font-family=\"Helvetica,sans-Serif\" font-size=\"14.00\" fill=\"#000000\">squared_error = 0.007</text>\n<text text-anchor=\"middle\" x=\"3450.5\" y=\"-423.8\" font-family=\"Helvetica,sans-Serif\" font-size=\"14.00\" fill=\"#000000\">samples = 3500</text>\n<text text-anchor=\"middle\" x=\"3450.5\" y=\"-408.8\" font-family=\"Helvetica,sans-Serif\" font-size=\"14.00\" fill=\"#000000\">value = 1.778</text>\n</g>\n<!-- 0&#45;&gt;32 -->\n<g id=\"edge32\" class=\"edge\">\n<title>0&#45;&gt;32</title>\n<path fill=\"none\" stroke=\"#000000\" d=\"M3268.196,-507.0898C3297.3536,-495.5598 3330.449,-482.4726 3360.3645,-470.6429\"/>\n<polygon fill=\"#000000\" stroke=\"#000000\" points=\"3361.9443,-473.782 3369.9566,-466.8499 3359.3702,-467.2725 3361.9443,-473.782\"/>\n<text text-anchor=\"middle\" x=\"3360.0182\" y=\"-486.0895\" font-family=\"Helvetica,sans-Serif\" font-size=\"14.00\" fill=\"#000000\">False</text>\n</g>\n<!-- 2 -->\n<g id=\"node3\" class=\"node\">\n<title>2</title>\n<polygon fill=\"#f4caac\" stroke=\"#000000\" points=\"1145,-365 984,-365 984,-297 1145,-297 1145,-365\"/>\n<text text-anchor=\"middle\" x=\"1064.5\" y=\"-349.8\" font-family=\"Helvetica,sans-Serif\" font-size=\"14.00\" fill=\"#000000\">공항 거리 &lt;= 1.156</text>\n<text text-anchor=\"middle\" x=\"1064.5\" y=\"-334.8\" font-family=\"Helvetica,sans-Serif\" font-size=\"14.00\" fill=\"#000000\">squared_error = 0.006</text>\n<text text-anchor=\"middle\" x=\"1064.5\" y=\"-319.8\" font-family=\"Helvetica,sans-Serif\" font-size=\"14.00\" fill=\"#000000\">samples = 1335</text>\n<text text-anchor=\"middle\" x=\"1064.5\" y=\"-304.8\" font-family=\"Helvetica,sans-Serif\" font-size=\"14.00\" fill=\"#000000\">value = 1.586</text>\n</g>\n<!-- 1&#45;&gt;2 -->\n<g id=\"edge2\" class=\"edge\">\n<title>1&#45;&gt;2</title>\n<path fill=\"none\" stroke=\"#000000\" d=\"M2138.7417,-427.7283C1930.2474,-408.9547 1374.9341,-358.9525 1155.523,-339.196\"/>\n<polygon fill=\"#000000\" stroke=\"#000000\" points=\"1155.6051,-335.6893 1145.3315,-338.2783 1154.9773,-342.6611 1155.6051,-335.6893\"/>\n</g>\n<!-- 17 -->\n<g id=\"node18\" class=\"node\">\n<title>17</title>\n<polygon fill=\"#f1bc95\" stroke=\"#000000\" points=\"2300,-365 2139,-365 2139,-297 2300,-297 2300,-365\"/>\n<text text-anchor=\"middle\" x=\"2219.5\" y=\"-349.8\" font-family=\"Helvetica,sans-Serif\" font-size=\"14.00\" fill=\"#000000\">기차 거리 &lt;= 0.788</text>\n<text text-anchor=\"middle\" x=\"2219.5\" y=\"-334.8\" font-family=\"Helvetica,sans-Serif\" font-size=\"14.00\" fill=\"#000000\">squared_error = 0.004</text>\n<text text-anchor=\"middle\" x=\"2219.5\" y=\"-319.8\" font-family=\"Helvetica,sans-Serif\" font-size=\"14.00\" fill=\"#000000\">samples = 1249</text>\n<text text-anchor=\"middle\" x=\"2219.5\" y=\"-304.8\" font-family=\"Helvetica,sans-Serif\" font-size=\"14.00\" fill=\"#000000\">value = 1.655</text>\n</g>\n<!-- 1&#45;&gt;17 -->\n<g id=\"edge17\" class=\"edge\">\n<title>1&#45;&gt;17</title>\n<path fill=\"none\" stroke=\"#000000\" d=\"M2219.5,-400.9465C2219.5,-392.776 2219.5,-383.9318 2219.5,-375.3697\"/>\n<polygon fill=\"#000000\" stroke=\"#000000\" points=\"2223.0001,-375.13 2219.5,-365.13 2216.0001,-375.13 2223.0001,-375.13\"/>\n</g>\n<!-- 3 -->\n<g id=\"node4\" class=\"node\">\n<title>3</title>\n<polygon fill=\"#f3c6a6\" stroke=\"#000000\" points=\"608,-261 447,-261 447,-193 608,-193 608,-261\"/>\n<text text-anchor=\"middle\" x=\"527.5\" y=\"-245.8\" font-family=\"Helvetica,sans-Serif\" font-size=\"14.00\" fill=\"#000000\">기차 거리 &lt;= 0.305</text>\n<text text-anchor=\"middle\" x=\"527.5\" y=\"-230.8\" font-family=\"Helvetica,sans-Serif\" font-size=\"14.00\" fill=\"#000000\">squared_error = 0.005</text>\n<text text-anchor=\"middle\" x=\"527.5\" y=\"-215.8\" font-family=\"Helvetica,sans-Serif\" font-size=\"14.00\" fill=\"#000000\">samples = 930</text>\n<text text-anchor=\"middle\" x=\"527.5\" y=\"-200.8\" font-family=\"Helvetica,sans-Serif\" font-size=\"14.00\" fill=\"#000000\">value = 1.604</text>\n</g>\n<!-- 2&#45;&gt;3 -->\n<g id=\"edge3\" class=\"edge\">\n<title>2&#45;&gt;3</title>\n<path fill=\"none\" stroke=\"#000000\" d=\"M983.8152,-315.3739C885.7731,-296.3862 720.7955,-264.4352 618.369,-244.5985\"/>\n<polygon fill=\"#000000\" stroke=\"#000000\" points=\"618.8326,-241.1233 608.3496,-242.658 617.5016,-247.9956 618.8326,-241.1233\"/>\n</g>\n<!-- 10 -->\n<g id=\"node11\" class=\"node\">\n<title>10</title>\n<polygon fill=\"#f6d4bb\" stroke=\"#000000\" points=\"1145,-261 984,-261 984,-193 1145,-193 1145,-261\"/>\n<text text-anchor=\"middle\" x=\"1064.5\" y=\"-245.8\" font-family=\"Helvetica,sans-Serif\" font-size=\"14.00\" fill=\"#000000\">면적 &lt;= &#45;1.169</text>\n<text text-anchor=\"middle\" x=\"1064.5\" y=\"-230.8\" font-family=\"Helvetica,sans-Serif\" font-size=\"14.00\" fill=\"#000000\">squared_error = 0.005</text>\n<text text-anchor=\"middle\" x=\"1064.5\" y=\"-215.8\" font-family=\"Helvetica,sans-Serif\" font-size=\"14.00\" fill=\"#000000\">samples = 405</text>\n<text text-anchor=\"middle\" x=\"1064.5\" y=\"-200.8\" font-family=\"Helvetica,sans-Serif\" font-size=\"14.00\" fill=\"#000000\">value = 1.542</text>\n</g>\n<!-- 2&#45;&gt;10 -->\n<g id=\"edge10\" class=\"edge\">\n<title>2&#45;&gt;10</title>\n<path fill=\"none\" stroke=\"#000000\" d=\"M1064.5,-296.9465C1064.5,-288.776 1064.5,-279.9318 1064.5,-271.3697\"/>\n<polygon fill=\"#000000\" stroke=\"#000000\" points=\"1068.0001,-271.13 1064.5,-261.13 1061.0001,-271.13 1068.0001,-271.13\"/>\n</g>\n<!-- 4 -->\n<g id=\"node5\" class=\"node\">\n<title>4</title>\n<polygon fill=\"#f2c29f\" stroke=\"#000000\" points=\"340,-157 179,-157 179,-89 340,-89 340,-157\"/>\n<text text-anchor=\"middle\" x=\"259.5\" y=\"-141.8\" font-family=\"Helvetica,sans-Serif\" font-size=\"14.00\" fill=\"#000000\">병원 거리 &lt;= &#45;1.739</text>\n<text text-anchor=\"middle\" x=\"259.5\" y=\"-126.8\" font-family=\"Helvetica,sans-Serif\" font-size=\"14.00\" fill=\"#000000\">squared_error = 0.004</text>\n<text text-anchor=\"middle\" x=\"259.5\" y=\"-111.8\" font-family=\"Helvetica,sans-Serif\" font-size=\"14.00\" fill=\"#000000\">samples = 590</text>\n<text text-anchor=\"middle\" x=\"259.5\" y=\"-96.8\" font-family=\"Helvetica,sans-Serif\" font-size=\"14.00\" fill=\"#000000\">value = 1.627</text>\n</g>\n<!-- 3&#45;&gt;4 -->\n<g id=\"edge4\" class=\"edge\">\n<title>3&#45;&gt;4</title>\n<path fill=\"none\" stroke=\"#000000\" d=\"M446.7277,-195.6555C416.1392,-183.7854 381.1322,-170.2005 349.7283,-158.014\"/>\n<polygon fill=\"#000000\" stroke=\"#000000\" points=\"350.6957,-154.6351 340.1068,-154.2803 348.1633,-161.161 350.6957,-154.6351\"/>\n</g>\n<!-- 7 -->\n<g id=\"node8\" class=\"node\">\n<title>7</title>\n<polygon fill=\"#f5cfb3\" stroke=\"#000000\" points=\"608,-157 447,-157 447,-89 608,-89 608,-157\"/>\n<text text-anchor=\"middle\" x=\"527.5\" y=\"-141.8\" font-family=\"Helvetica,sans-Serif\" font-size=\"14.00\" fill=\"#000000\">면적 &lt;= &#45;1.115</text>\n<text text-anchor=\"middle\" x=\"527.5\" y=\"-126.8\" font-family=\"Helvetica,sans-Serif\" font-size=\"14.00\" fill=\"#000000\">squared_error = 0.005</text>\n<text text-anchor=\"middle\" x=\"527.5\" y=\"-111.8\" font-family=\"Helvetica,sans-Serif\" font-size=\"14.00\" fill=\"#000000\">samples = 340</text>\n<text text-anchor=\"middle\" x=\"527.5\" y=\"-96.8\" font-family=\"Helvetica,sans-Serif\" font-size=\"14.00\" fill=\"#000000\">value = 1.565</text>\n</g>\n<!-- 3&#45;&gt;7 -->\n<g id=\"edge7\" class=\"edge\">\n<title>3&#45;&gt;7</title>\n<path fill=\"none\" stroke=\"#000000\" d=\"M527.5,-192.9465C527.5,-184.776 527.5,-175.9318 527.5,-167.3697\"/>\n<polygon fill=\"#000000\" stroke=\"#000000\" points=\"531.0001,-167.13 527.5,-157.13 524.0001,-167.13 531.0001,-167.13\"/>\n</g>\n<!-- 5 -->\n<g id=\"node6\" class=\"node\">\n<title>5</title>\n<polygon fill=\"#eeae80\" stroke=\"#000000\" points=\"161,-53 0,-53 0,0 161,0 161,-53\"/>\n<text text-anchor=\"middle\" x=\"80.5\" y=\"-37.8\" font-family=\"Helvetica,sans-Serif\" font-size=\"14.00\" fill=\"#000000\">squared_error = 0.005</text>\n<text text-anchor=\"middle\" x=\"80.5\" y=\"-22.8\" font-family=\"Helvetica,sans-Serif\" font-size=\"14.00\" fill=\"#000000\">samples = 24</text>\n<text text-anchor=\"middle\" x=\"80.5\" y=\"-7.8\" font-family=\"Helvetica,sans-Serif\" font-size=\"14.00\" fill=\"#000000\">value = 1.72</text>\n</g>\n<!-- 4&#45;&gt;5 -->\n<g id=\"edge5\" class=\"edge\">\n<title>4&#45;&gt;5</title>\n<path fill=\"none\" stroke=\"#000000\" d=\"M196.3913,-88.9777C177.6208,-78.8584 157.1494,-67.8222 138.7063,-57.8794\"/>\n<polygon fill=\"#000000\" stroke=\"#000000\" points=\"140.295,-54.7597 129.8317,-53.095 136.9732,-60.9213 140.295,-54.7597\"/>\n</g>\n<!-- 6 -->\n<g id=\"node7\" class=\"node\">\n<title>6</title>\n<polygon fill=\"#f3c2a0\" stroke=\"#000000\" points=\"340,-53 179,-53 179,0 340,0 340,-53\"/>\n<text text-anchor=\"middle\" x=\"259.5\" y=\"-37.8\" font-family=\"Helvetica,sans-Serif\" font-size=\"14.00\" fill=\"#000000\">squared_error = 0.004</text>\n<text text-anchor=\"middle\" x=\"259.5\" y=\"-22.8\" font-family=\"Helvetica,sans-Serif\" font-size=\"14.00\" fill=\"#000000\">samples = 566</text>\n<text text-anchor=\"middle\" x=\"259.5\" y=\"-7.8\" font-family=\"Helvetica,sans-Serif\" font-size=\"14.00\" fill=\"#000000\">value = 1.623</text>\n</g>\n<!-- 4&#45;&gt;6 -->\n<g id=\"edge6\" class=\"edge\">\n<title>4&#45;&gt;6</title>\n<path fill=\"none\" stroke=\"#000000\" d=\"M259.5,-88.9777C259.5,-80.7364 259.5,-71.887 259.5,-63.5153\"/>\n<polygon fill=\"#000000\" stroke=\"#000000\" points=\"263.0001,-63.2484 259.5,-53.2485 256.0001,-63.2485 263.0001,-63.2484\"/>\n</g>\n<!-- 8 -->\n<g id=\"node9\" class=\"node\">\n<title>8</title>\n<polygon fill=\"#f8dcc8\" stroke=\"#000000\" points=\"519,-53 358,-53 358,0 519,0 519,-53\"/>\n<text text-anchor=\"middle\" x=\"438.5\" y=\"-37.8\" font-family=\"Helvetica,sans-Serif\" font-size=\"14.00\" fill=\"#000000\">squared_error = 0.008</text>\n<text text-anchor=\"middle\" x=\"438.5\" y=\"-22.8\" font-family=\"Helvetica,sans-Serif\" font-size=\"14.00\" fill=\"#000000\">samples = 42</text>\n<text text-anchor=\"middle\" x=\"438.5\" y=\"-7.8\" font-family=\"Helvetica,sans-Serif\" font-size=\"14.00\" fill=\"#000000\">value = 1.503</text>\n</g>\n<!-- 7&#45;&gt;8 -->\n<g id=\"edge8\" class=\"edge\">\n<title>7&#45;&gt;8</title>\n<path fill=\"none\" stroke=\"#000000\" d=\"M496.1219,-88.9777C487.6766,-79.8207 478.5389,-69.9129 470.0825,-60.744\"/>\n<polygon fill=\"#000000\" stroke=\"#000000\" points=\"472.5221,-58.2266 463.1696,-53.2485 467.3764,-62.9723 472.5221,-58.2266\"/>\n</g>\n<!-- 9 -->\n<g id=\"node10\" class=\"node\">\n<title>9</title>\n<polygon fill=\"#f5cdb0\" stroke=\"#000000\" points=\"698,-53 537,-53 537,0 698,0 698,-53\"/>\n<text text-anchor=\"middle\" x=\"617.5\" y=\"-37.8\" font-family=\"Helvetica,sans-Serif\" font-size=\"14.00\" fill=\"#000000\">squared_error = 0.004</text>\n<text text-anchor=\"middle\" x=\"617.5\" y=\"-22.8\" font-family=\"Helvetica,sans-Serif\" font-size=\"14.00\" fill=\"#000000\">samples = 298</text>\n<text text-anchor=\"middle\" x=\"617.5\" y=\"-7.8\" font-family=\"Helvetica,sans-Serif\" font-size=\"14.00\" fill=\"#000000\">value = 1.574</text>\n</g>\n<!-- 7&#45;&gt;9 -->\n<g id=\"edge9\" class=\"edge\">\n<title>7&#45;&gt;9</title>\n<path fill=\"none\" stroke=\"#000000\" d=\"M559.2306,-88.9777C567.7708,-79.8207 577.0113,-69.9129 585.5626,-60.744\"/>\n<polygon fill=\"#000000\" stroke=\"#000000\" points=\"588.2923,-62.9488 592.5532,-53.2485 583.1731,-58.1744 588.2923,-62.9488\"/>\n</g>\n<!-- 11 -->\n<g id=\"node12\" class=\"node\">\n<title>11</title>\n<polygon fill=\"#f9e1cf\" stroke=\"#000000\" points=\"1056,-157 895,-157 895,-89 1056,-89 1056,-157\"/>\n<text text-anchor=\"middle\" x=\"975.5\" y=\"-141.8\" font-family=\"Helvetica,sans-Serif\" font-size=\"14.00\" fill=\"#000000\">공항 거리 &lt;= 1.233</text>\n<text text-anchor=\"middle\" x=\"975.5\" y=\"-126.8\" font-family=\"Helvetica,sans-Serif\" font-size=\"14.00\" fill=\"#000000\">squared_error = 0.005</text>\n<text text-anchor=\"middle\" x=\"975.5\" y=\"-111.8\" font-family=\"Helvetica,sans-Serif\" font-size=\"14.00\" fill=\"#000000\">samples = 109</text>\n<text text-anchor=\"middle\" x=\"975.5\" y=\"-96.8\" font-family=\"Helvetica,sans-Serif\" font-size=\"14.00\" fill=\"#000000\">value = 1.479</text>\n</g>\n<!-- 10&#45;&gt;11 -->\n<g id=\"edge11\" class=\"edge\">\n<title>10&#45;&gt;11</title>\n<path fill=\"none\" stroke=\"#000000\" d=\"M1035.3581,-192.9465C1027.6745,-183.968 1019.2947,-174.1758 1011.3041,-164.8385\"/>\n<polygon fill=\"#000000\" stroke=\"#000000\" points=\"1013.8685,-162.4521 1004.7074,-157.13 1008.5501,-167.0034 1013.8685,-162.4521\"/>\n</g>\n<!-- 14 -->\n<g id=\"node15\" class=\"node\">\n<title>14</title>\n<polygon fill=\"#f5cfb3\" stroke=\"#000000\" points=\"1235,-157 1074,-157 1074,-89 1235,-89 1235,-157\"/>\n<text text-anchor=\"middle\" x=\"1154.5\" y=\"-141.8\" font-family=\"Helvetica,sans-Serif\" font-size=\"14.00\" fill=\"#000000\">공항 거리 &lt;= 2.086</text>\n<text text-anchor=\"middle\" x=\"1154.5\" y=\"-126.8\" font-family=\"Helvetica,sans-Serif\" font-size=\"14.00\" fill=\"#000000\">squared_error = 0.003</text>\n<text text-anchor=\"middle\" x=\"1154.5\" y=\"-111.8\" font-family=\"Helvetica,sans-Serif\" font-size=\"14.00\" fill=\"#000000\">samples = 296</text>\n<text text-anchor=\"middle\" x=\"1154.5\" y=\"-96.8\" font-family=\"Helvetica,sans-Serif\" font-size=\"14.00\" fill=\"#000000\">value = 1.565</text>\n</g>\n<!-- 10&#45;&gt;14 -->\n<g id=\"edge14\" class=\"edge\">\n<title>10&#45;&gt;14</title>\n<path fill=\"none\" stroke=\"#000000\" d=\"M1093.9694,-192.9465C1101.7393,-183.968 1110.2132,-174.1758 1118.2936,-164.8385\"/>\n<polygon fill=\"#000000\" stroke=\"#000000\" points=\"1121.0672,-166.982 1124.9644,-157.13 1115.774,-162.4014 1121.0672,-166.982\"/>\n</g>\n<!-- 12 -->\n<g id=\"node13\" class=\"node\">\n<title>12</title>\n<polygon fill=\"#ffffff\" stroke=\"#000000\" points=\"877,-53 716,-53 716,0 877,0 877,-53\"/>\n<text text-anchor=\"middle\" x=\"796.5\" y=\"-37.8\" font-family=\"Helvetica,sans-Serif\" font-size=\"14.00\" fill=\"#000000\">squared_error = 0.059</text>\n<text text-anchor=\"middle\" x=\"796.5\" y=\"-22.8\" font-family=\"Helvetica,sans-Serif\" font-size=\"14.00\" fill=\"#000000\">samples = 3</text>\n<text text-anchor=\"middle\" x=\"796.5\" y=\"-7.8\" font-family=\"Helvetica,sans-Serif\" font-size=\"14.00\" fill=\"#000000\">value = 1.335</text>\n</g>\n<!-- 11&#45;&gt;12 -->\n<g id=\"edge12\" class=\"edge\">\n<title>11&#45;&gt;12</title>\n<path fill=\"none\" stroke=\"#000000\" d=\"M912.3913,-88.9777C893.6208,-78.8584 873.1494,-67.8222 854.7063,-57.8794\"/>\n<polygon fill=\"#000000\" stroke=\"#000000\" points=\"856.295,-54.7597 845.8317,-53.095 852.9732,-60.9213 856.295,-54.7597\"/>\n</g>\n<!-- 13 -->\n<g id=\"node14\" class=\"node\">\n<title>13</title>\n<polygon fill=\"#f9e0ce\" stroke=\"#000000\" points=\"1056,-53 895,-53 895,0 1056,0 1056,-53\"/>\n<text text-anchor=\"middle\" x=\"975.5\" y=\"-37.8\" font-family=\"Helvetica,sans-Serif\" font-size=\"14.00\" fill=\"#000000\">squared_error = 0.003</text>\n<text text-anchor=\"middle\" x=\"975.5\" y=\"-22.8\" font-family=\"Helvetica,sans-Serif\" font-size=\"14.00\" fill=\"#000000\">samples = 106</text>\n<text text-anchor=\"middle\" x=\"975.5\" y=\"-7.8\" font-family=\"Helvetica,sans-Serif\" font-size=\"14.00\" fill=\"#000000\">value = 1.483</text>\n</g>\n<!-- 11&#45;&gt;13 -->\n<g id=\"edge13\" class=\"edge\">\n<title>11&#45;&gt;13</title>\n<path fill=\"none\" stroke=\"#000000\" d=\"M975.5,-88.9777C975.5,-80.7364 975.5,-71.887 975.5,-63.5153\"/>\n<polygon fill=\"#000000\" stroke=\"#000000\" points=\"979.0001,-63.2484 975.5,-53.2485 972.0001,-63.2485 979.0001,-63.2484\"/>\n</g>\n<!-- 15 -->\n<g id=\"node16\" class=\"node\">\n<title>15</title>\n<polygon fill=\"#f5ceb2\" stroke=\"#000000\" points=\"1235,-53 1074,-53 1074,0 1235,0 1235,-53\"/>\n<text text-anchor=\"middle\" x=\"1154.5\" y=\"-37.8\" font-family=\"Helvetica,sans-Serif\" font-size=\"14.00\" fill=\"#000000\">squared_error = 0.003</text>\n<text text-anchor=\"middle\" x=\"1154.5\" y=\"-22.8\" font-family=\"Helvetica,sans-Serif\" font-size=\"14.00\" fill=\"#000000\">samples = 287</text>\n<text text-anchor=\"middle\" x=\"1154.5\" y=\"-7.8\" font-family=\"Helvetica,sans-Serif\" font-size=\"14.00\" fill=\"#000000\">value = 1.569</text>\n</g>\n<!-- 14&#45;&gt;15 -->\n<g id=\"edge15\" class=\"edge\">\n<title>14&#45;&gt;15</title>\n<path fill=\"none\" stroke=\"#000000\" d=\"M1154.5,-88.9777C1154.5,-80.7364 1154.5,-71.887 1154.5,-63.5153\"/>\n<polygon fill=\"#000000\" stroke=\"#000000\" points=\"1158.0001,-63.2484 1154.5,-53.2485 1151.0001,-63.2485 1158.0001,-63.2484\"/>\n</g>\n<!-- 16 -->\n<g id=\"node17\" class=\"node\">\n<title>16</title>\n<polygon fill=\"#fbe9dd\" stroke=\"#000000\" points=\"1414,-53 1253,-53 1253,0 1414,0 1414,-53\"/>\n<text text-anchor=\"middle\" x=\"1333.5\" y=\"-37.8\" font-family=\"Helvetica,sans-Serif\" font-size=\"14.00\" fill=\"#000000\">squared_error = 0.007</text>\n<text text-anchor=\"middle\" x=\"1333.5\" y=\"-22.8\" font-family=\"Helvetica,sans-Serif\" font-size=\"14.00\" fill=\"#000000\">samples = 9</text>\n<text text-anchor=\"middle\" x=\"1333.5\" y=\"-7.8\" font-family=\"Helvetica,sans-Serif\" font-size=\"14.00\" fill=\"#000000\">value = 1.438</text>\n</g>\n<!-- 14&#45;&gt;16 -->\n<g id=\"edge16\" class=\"edge\">\n<title>14&#45;&gt;16</title>\n<path fill=\"none\" stroke=\"#000000\" d=\"M1217.6087,-88.9777C1236.3792,-78.8584 1256.8506,-67.8222 1275.2937,-57.8794\"/>\n<polygon fill=\"#000000\" stroke=\"#000000\" points=\"1277.0268,-60.9213 1284.1683,-53.095 1273.705,-54.7597 1277.0268,-60.9213\"/>\n</g>\n<!-- 18 -->\n<g id=\"node19\" class=\"node\">\n<title>18</title>\n<polygon fill=\"#f1ba92\" stroke=\"#000000\" points=\"2040,-261 1879,-261 1879,-193 2040,-193 2040,-261\"/>\n<text text-anchor=\"middle\" x=\"1959.5\" y=\"-245.8\" font-family=\"Helvetica,sans-Serif\" font-size=\"14.00\" fill=\"#000000\">공항 거리 &lt;= 1.274</text>\n<text text-anchor=\"middle\" x=\"1959.5\" y=\"-230.8\" font-family=\"Helvetica,sans-Serif\" font-size=\"14.00\" fill=\"#000000\">squared_error = 0.004</text>\n<text text-anchor=\"middle\" x=\"1959.5\" y=\"-215.8\" font-family=\"Helvetica,sans-Serif\" font-size=\"14.00\" fill=\"#000000\">samples = 991</text>\n<text text-anchor=\"middle\" x=\"1959.5\" y=\"-200.8\" font-family=\"Helvetica,sans-Serif\" font-size=\"14.00\" fill=\"#000000\">value = 1.666</text>\n</g>\n<!-- 17&#45;&gt;18 -->\n<g id=\"edge18\" class=\"edge\">\n<title>17&#45;&gt;18</title>\n<path fill=\"none\" stroke=\"#000000\" d=\"M2138.6596,-298.6638C2110.4121,-287.3648 2078.533,-274.6132 2049.5797,-263.0319\"/>\n<polygon fill=\"#000000\" stroke=\"#000000\" points=\"2050.8751,-259.7805 2040.2904,-259.3162 2048.2753,-266.2798 2050.8751,-259.7805\"/>\n</g>\n<!-- 25 -->\n<g id=\"node26\" class=\"node\">\n<title>25</title>\n<polygon fill=\"#f3c4a3\" stroke=\"#000000\" points=\"2391,-261 2230,-261 2230,-193 2391,-193 2391,-261\"/>\n<text text-anchor=\"middle\" x=\"2310.5\" y=\"-245.8\" font-family=\"Helvetica,sans-Serif\" font-size=\"14.00\" fill=\"#000000\">기차 거리 &lt;= 2.156</text>\n<text text-anchor=\"middle\" x=\"2310.5\" y=\"-230.8\" font-family=\"Helvetica,sans-Serif\" font-size=\"14.00\" fill=\"#000000\">squared_error = 0.004</text>\n<text text-anchor=\"middle\" x=\"2310.5\" y=\"-215.8\" font-family=\"Helvetica,sans-Serif\" font-size=\"14.00\" fill=\"#000000\">samples = 258</text>\n<text text-anchor=\"middle\" x=\"2310.5\" y=\"-200.8\" font-family=\"Helvetica,sans-Serif\" font-size=\"14.00\" fill=\"#000000\">value = 1.615</text>\n</g>\n<!-- 17&#45;&gt;25 -->\n<g id=\"edge25\" class=\"edge\">\n<title>17&#45;&gt;25</title>\n<path fill=\"none\" stroke=\"#000000\" d=\"M2249.2968,-296.9465C2257.153,-287.968 2265.7212,-278.1758 2273.8913,-268.8385\"/>\n<polygon fill=\"#000000\" stroke=\"#000000\" points=\"2276.6852,-270.9606 2280.6363,-261.13 2271.4171,-266.351 2276.6852,-270.9606\"/>\n</g>\n<!-- 19 -->\n<g id=\"node20\" class=\"node\">\n<title>19</title>\n<polygon fill=\"#f0b88f\" stroke=\"#000000\" points=\"1772,-157 1611,-157 1611,-89 1772,-89 1772,-157\"/>\n<text text-anchor=\"middle\" x=\"1691.5\" y=\"-141.8\" font-family=\"Helvetica,sans-Serif\" font-size=\"14.00\" fill=\"#000000\">방 개수1 &lt;= 0.5</text>\n<text text-anchor=\"middle\" x=\"1691.5\" y=\"-126.8\" font-family=\"Helvetica,sans-Serif\" font-size=\"14.00\" fill=\"#000000\">squared_error = 0.004</text>\n<text text-anchor=\"middle\" x=\"1691.5\" y=\"-111.8\" font-family=\"Helvetica,sans-Serif\" font-size=\"14.00\" fill=\"#000000\">samples = 791</text>\n<text text-anchor=\"middle\" x=\"1691.5\" y=\"-96.8\" font-family=\"Helvetica,sans-Serif\" font-size=\"14.00\" fill=\"#000000\">value = 1.675</text>\n</g>\n<!-- 18&#45;&gt;19 -->\n<g id=\"edge19\" class=\"edge\">\n<title>18&#45;&gt;19</title>\n<path fill=\"none\" stroke=\"#000000\" d=\"M1878.7277,-195.6555C1848.1392,-183.7854 1813.1322,-170.2005 1781.7283,-158.014\"/>\n<polygon fill=\"#000000\" stroke=\"#000000\" points=\"1782.6957,-154.6351 1772.1068,-154.2803 1780.1633,-161.161 1782.6957,-154.6351\"/>\n</g>\n<!-- 22 -->\n<g id=\"node23\" class=\"node\">\n<title>22</title>\n<polygon fill=\"#f2c19e\" stroke=\"#000000\" points=\"2040,-157 1879,-157 1879,-89 2040,-89 2040,-157\"/>\n<text text-anchor=\"middle\" x=\"1959.5\" y=\"-141.8\" font-family=\"Helvetica,sans-Serif\" font-size=\"14.00\" fill=\"#000000\">면적 &lt;= &#45;0.707</text>\n<text text-anchor=\"middle\" x=\"1959.5\" y=\"-126.8\" font-family=\"Helvetica,sans-Serif\" font-size=\"14.00\" fill=\"#000000\">squared_error = 0.003</text>\n<text text-anchor=\"middle\" x=\"1959.5\" y=\"-111.8\" font-family=\"Helvetica,sans-Serif\" font-size=\"14.00\" fill=\"#000000\">samples = 200</text>\n<text text-anchor=\"middle\" x=\"1959.5\" y=\"-96.8\" font-family=\"Helvetica,sans-Serif\" font-size=\"14.00\" fill=\"#000000\">value = 1.629</text>\n</g>\n<!-- 18&#45;&gt;22 -->\n<g id=\"edge22\" class=\"edge\">\n<title>18&#45;&gt;22</title>\n<path fill=\"none\" stroke=\"#000000\" d=\"M1959.5,-192.9465C1959.5,-184.776 1959.5,-175.9318 1959.5,-167.3697\"/>\n<polygon fill=\"#000000\" stroke=\"#000000\" points=\"1963.0001,-167.13 1959.5,-157.13 1956.0001,-167.13 1963.0001,-167.13\"/>\n</g>\n<!-- 20 -->\n<g id=\"node21\" class=\"node\">\n<title>20</title>\n<polygon fill=\"#f0b48a\" stroke=\"#000000\" points=\"1593,-53 1432,-53 1432,0 1593,0 1593,-53\"/>\n<text text-anchor=\"middle\" x=\"1512.5\" y=\"-37.8\" font-family=\"Helvetica,sans-Serif\" font-size=\"14.00\" fill=\"#000000\">squared_error = 0.004</text>\n<text text-anchor=\"middle\" x=\"1512.5\" y=\"-22.8\" font-family=\"Helvetica,sans-Serif\" font-size=\"14.00\" fill=\"#000000\">samples = 428</text>\n<text text-anchor=\"middle\" x=\"1512.5\" y=\"-7.8\" font-family=\"Helvetica,sans-Serif\" font-size=\"14.00\" fill=\"#000000\">value = 1.691</text>\n</g>\n<!-- 19&#45;&gt;20 -->\n<g id=\"edge20\" class=\"edge\">\n<title>19&#45;&gt;20</title>\n<path fill=\"none\" stroke=\"#000000\" d=\"M1628.3913,-88.9777C1609.6208,-78.8584 1589.1494,-67.8222 1570.7063,-57.8794\"/>\n<polygon fill=\"#000000\" stroke=\"#000000\" points=\"1572.295,-54.7597 1561.8317,-53.095 1568.9732,-60.9213 1572.295,-54.7597\"/>\n</g>\n<!-- 21 -->\n<g id=\"node22\" class=\"node\">\n<title>21</title>\n<polygon fill=\"#f1bb95\" stroke=\"#000000\" points=\"1772,-53 1611,-53 1611,0 1772,0 1772,-53\"/>\n<text text-anchor=\"middle\" x=\"1691.5\" y=\"-37.8\" font-family=\"Helvetica,sans-Serif\" font-size=\"14.00\" fill=\"#000000\">squared_error = 0.003</text>\n<text text-anchor=\"middle\" x=\"1691.5\" y=\"-22.8\" font-family=\"Helvetica,sans-Serif\" font-size=\"14.00\" fill=\"#000000\">samples = 363</text>\n<text text-anchor=\"middle\" x=\"1691.5\" y=\"-7.8\" font-family=\"Helvetica,sans-Serif\" font-size=\"14.00\" fill=\"#000000\">value = 1.657</text>\n</g>\n<!-- 19&#45;&gt;21 -->\n<g id=\"edge21\" class=\"edge\">\n<title>19&#45;&gt;21</title>\n<path fill=\"none\" stroke=\"#000000\" d=\"M1691.5,-88.9777C1691.5,-80.7364 1691.5,-71.887 1691.5,-63.5153\"/>\n<polygon fill=\"#000000\" stroke=\"#000000\" points=\"1695.0001,-63.2484 1691.5,-53.2485 1688.0001,-63.2485 1695.0001,-63.2484\"/>\n</g>\n<!-- 23 -->\n<g id=\"node24\" class=\"node\">\n<title>23</title>\n<polygon fill=\"#f3c7a6\" stroke=\"#000000\" points=\"1951,-53 1790,-53 1790,0 1951,0 1951,-53\"/>\n<text text-anchor=\"middle\" x=\"1870.5\" y=\"-37.8\" font-family=\"Helvetica,sans-Serif\" font-size=\"14.00\" fill=\"#000000\">squared_error = 0.002</text>\n<text text-anchor=\"middle\" x=\"1870.5\" y=\"-22.8\" font-family=\"Helvetica,sans-Serif\" font-size=\"14.00\" fill=\"#000000\">samples = 65</text>\n<text text-anchor=\"middle\" x=\"1870.5\" y=\"-7.8\" font-family=\"Helvetica,sans-Serif\" font-size=\"14.00\" fill=\"#000000\">value = 1.604</text>\n</g>\n<!-- 22&#45;&gt;23 -->\n<g id=\"edge23\" class=\"edge\">\n<title>22&#45;&gt;23</title>\n<path fill=\"none\" stroke=\"#000000\" d=\"M1928.1219,-88.9777C1919.6766,-79.8207 1910.5389,-69.9129 1902.0825,-60.744\"/>\n<polygon fill=\"#000000\" stroke=\"#000000\" points=\"1904.5221,-58.2266 1895.1696,-53.2485 1899.3764,-62.9723 1904.5221,-58.2266\"/>\n</g>\n<!-- 24 -->\n<g id=\"node25\" class=\"node\">\n<title>24</title>\n<polygon fill=\"#f2bf9a\" stroke=\"#000000\" points=\"2130,-53 1969,-53 1969,0 2130,0 2130,-53\"/>\n<text text-anchor=\"middle\" x=\"2049.5\" y=\"-37.8\" font-family=\"Helvetica,sans-Serif\" font-size=\"14.00\" fill=\"#000000\">squared_error = 0.002</text>\n<text text-anchor=\"middle\" x=\"2049.5\" y=\"-22.8\" font-family=\"Helvetica,sans-Serif\" font-size=\"14.00\" fill=\"#000000\">samples = 135</text>\n<text text-anchor=\"middle\" x=\"2049.5\" y=\"-7.8\" font-family=\"Helvetica,sans-Serif\" font-size=\"14.00\" fill=\"#000000\">value = 1.641</text>\n</g>\n<!-- 22&#45;&gt;24 -->\n<g id=\"edge24\" class=\"edge\">\n<title>22&#45;&gt;24</title>\n<path fill=\"none\" stroke=\"#000000\" d=\"M1991.2306,-88.9777C1999.7708,-79.8207 2009.0113,-69.9129 2017.5626,-60.744\"/>\n<polygon fill=\"#000000\" stroke=\"#000000\" points=\"2020.2923,-62.9488 2024.5532,-53.2485 2015.1731,-58.1744 2020.2923,-62.9488\"/>\n</g>\n<!-- 26 -->\n<g id=\"node27\" class=\"node\">\n<title>26</title>\n<polygon fill=\"#f3c3a1\" stroke=\"#000000\" points=\"2391,-157 2230,-157 2230,-89 2391,-89 2391,-157\"/>\n<text text-anchor=\"middle\" x=\"2310.5\" y=\"-141.8\" font-family=\"Helvetica,sans-Serif\" font-size=\"14.00\" fill=\"#000000\">병원 거리 &lt;= 2.331</text>\n<text text-anchor=\"middle\" x=\"2310.5\" y=\"-126.8\" font-family=\"Helvetica,sans-Serif\" font-size=\"14.00\" fill=\"#000000\">squared_error = 0.004</text>\n<text text-anchor=\"middle\" x=\"2310.5\" y=\"-111.8\" font-family=\"Helvetica,sans-Serif\" font-size=\"14.00\" fill=\"#000000\">samples = 250</text>\n<text text-anchor=\"middle\" x=\"2310.5\" y=\"-96.8\" font-family=\"Helvetica,sans-Serif\" font-size=\"14.00\" fill=\"#000000\">value = 1.62</text>\n</g>\n<!-- 25&#45;&gt;26 -->\n<g id=\"edge26\" class=\"edge\">\n<title>25&#45;&gt;26</title>\n<path fill=\"none\" stroke=\"#000000\" d=\"M2310.5,-192.9465C2310.5,-184.776 2310.5,-175.9318 2310.5,-167.3697\"/>\n<polygon fill=\"#000000\" stroke=\"#000000\" points=\"2314.0001,-167.13 2310.5,-157.13 2307.0001,-167.13 2314.0001,-167.13\"/>\n</g>\n<!-- 29 -->\n<g id=\"node30\" class=\"node\">\n<title>29</title>\n<polygon fill=\"#f9e3d3\" stroke=\"#000000\" points=\"2651,-157 2490,-157 2490,-89 2651,-89 2651,-157\"/>\n<text text-anchor=\"middle\" x=\"2570.5\" y=\"-141.8\" font-family=\"Helvetica,sans-Serif\" font-size=\"14.00\" fill=\"#000000\">집 종류3 &lt;= 0.5</text>\n<text text-anchor=\"middle\" x=\"2570.5\" y=\"-126.8\" font-family=\"Helvetica,sans-Serif\" font-size=\"14.00\" fill=\"#000000\">squared_error = 0.001</text>\n<text text-anchor=\"middle\" x=\"2570.5\" y=\"-111.8\" font-family=\"Helvetica,sans-Serif\" font-size=\"14.00\" fill=\"#000000\">samples = 8</text>\n<text text-anchor=\"middle\" x=\"2570.5\" y=\"-96.8\" font-family=\"Helvetica,sans-Serif\" font-size=\"14.00\" fill=\"#000000\">value = 1.468</text>\n</g>\n<!-- 25&#45;&gt;29 -->\n<g id=\"edge29\" class=\"edge\">\n<title>25&#45;&gt;29</title>\n<path fill=\"none\" stroke=\"#000000\" d=\"M2391.3404,-194.6638C2419.5879,-183.3648 2451.467,-170.6132 2480.4203,-159.0319\"/>\n<polygon fill=\"#000000\" stroke=\"#000000\" points=\"2481.7247,-162.2798 2489.7096,-155.3162 2479.1249,-155.7805 2481.7247,-162.2798\"/>\n</g>\n<!-- 27 -->\n<g id=\"node28\" class=\"node\">\n<title>27</title>\n<polygon fill=\"#f3c4a2\" stroke=\"#000000\" points=\"2309,-53 2148,-53 2148,0 2309,0 2309,-53\"/>\n<text text-anchor=\"middle\" x=\"2228.5\" y=\"-37.8\" font-family=\"Helvetica,sans-Serif\" font-size=\"14.00\" fill=\"#000000\">squared_error = 0.003</text>\n<text text-anchor=\"middle\" x=\"2228.5\" y=\"-22.8\" font-family=\"Helvetica,sans-Serif\" font-size=\"14.00\" fill=\"#000000\">samples = 248</text>\n<text text-anchor=\"middle\" x=\"2228.5\" y=\"-7.8\" font-family=\"Helvetica,sans-Serif\" font-size=\"14.00\" fill=\"#000000\">value = 1.618</text>\n</g>\n<!-- 26&#45;&gt;27 -->\n<g id=\"edge27\" class=\"edge\">\n<title>26&#45;&gt;27</title>\n<path fill=\"none\" stroke=\"#000000\" d=\"M2281.5899,-88.9777C2273.8866,-79.9123 2265.5581,-70.111 2257.8324,-61.0192\"/>\n<polygon fill=\"#000000\" stroke=\"#000000\" points=\"2260.3718,-58.6025 2251.2293,-53.2485 2255.0375,-63.1352 2260.3718,-58.6025\"/>\n</g>\n<!-- 28 -->\n<g id=\"node29\" class=\"node\">\n<title>28</title>\n<polygon fill=\"#ea9a60\" stroke=\"#000000\" points=\"2471.5,-53 2327.5,-53 2327.5,0 2471.5,0 2471.5,-53\"/>\n<text text-anchor=\"middle\" x=\"2399.5\" y=\"-37.8\" font-family=\"Helvetica,sans-Serif\" font-size=\"14.00\" fill=\"#000000\">squared_error = 0.0</text>\n<text text-anchor=\"middle\" x=\"2399.5\" y=\"-22.8\" font-family=\"Helvetica,sans-Serif\" font-size=\"14.00\" fill=\"#000000\">samples = 2</text>\n<text text-anchor=\"middle\" x=\"2399.5\" y=\"-7.8\" font-family=\"Helvetica,sans-Serif\" font-size=\"14.00\" fill=\"#000000\">value = 1.818</text>\n</g>\n<!-- 26&#45;&gt;28 -->\n<g id=\"edge28\" class=\"edge\">\n<title>26&#45;&gt;28</title>\n<path fill=\"none\" stroke=\"#000000\" d=\"M2341.8781,-88.9777C2350.3234,-79.8207 2359.4611,-69.9129 2367.9175,-60.744\"/>\n<polygon fill=\"#000000\" stroke=\"#000000\" points=\"2370.6236,-62.9723 2374.8304,-53.2485 2365.4779,-58.2266 2370.6236,-62.9723\"/>\n</g>\n<!-- 30 -->\n<g id=\"node31\" class=\"node\">\n<title>30</title>\n<polygon fill=\"#fae6d8\" stroke=\"#000000\" points=\"2651,-53 2490,-53 2490,0 2651,0 2651,-53\"/>\n<text text-anchor=\"middle\" x=\"2570.5\" y=\"-37.8\" font-family=\"Helvetica,sans-Serif\" font-size=\"14.00\" fill=\"#000000\">squared_error = 0.001</text>\n<text text-anchor=\"middle\" x=\"2570.5\" y=\"-22.8\" font-family=\"Helvetica,sans-Serif\" font-size=\"14.00\" fill=\"#000000\">samples = 6</text>\n<text text-anchor=\"middle\" x=\"2570.5\" y=\"-7.8\" font-family=\"Helvetica,sans-Serif\" font-size=\"14.00\" fill=\"#000000\">value = 1.454</text>\n</g>\n<!-- 29&#45;&gt;30 -->\n<g id=\"edge30\" class=\"edge\">\n<title>29&#45;&gt;30</title>\n<path fill=\"none\" stroke=\"#000000\" d=\"M2570.5,-88.9777C2570.5,-80.7364 2570.5,-71.887 2570.5,-63.5153\"/>\n<polygon fill=\"#000000\" stroke=\"#000000\" points=\"2574.0001,-63.2484 2570.5,-53.2485 2567.0001,-63.2485 2574.0001,-63.2484\"/>\n</g>\n<!-- 31 -->\n<g id=\"node32\" class=\"node\">\n<title>31</title>\n<polygon fill=\"#f7dac5\" stroke=\"#000000\" points=\"2813.5,-53 2669.5,-53 2669.5,0 2813.5,0 2813.5,-53\"/>\n<text text-anchor=\"middle\" x=\"2741.5\" y=\"-37.8\" font-family=\"Helvetica,sans-Serif\" font-size=\"14.00\" fill=\"#000000\">squared_error = 0.0</text>\n<text text-anchor=\"middle\" x=\"2741.5\" y=\"-22.8\" font-family=\"Helvetica,sans-Serif\" font-size=\"14.00\" fill=\"#000000\">samples = 2</text>\n<text text-anchor=\"middle\" x=\"2741.5\" y=\"-7.8\" font-family=\"Helvetica,sans-Serif\" font-size=\"14.00\" fill=\"#000000\">value = 1.511</text>\n</g>\n<!-- 29&#45;&gt;31 -->\n<g id=\"edge31\" class=\"edge\">\n<title>29&#45;&gt;31</title>\n<path fill=\"none\" stroke=\"#000000\" d=\"M2630.7882,-88.9777C2648.5568,-78.9504 2667.9208,-68.0228 2685.4141,-58.1508\"/>\n<polygon fill=\"#000000\" stroke=\"#000000\" points=\"2687.3843,-61.0579 2694.3731,-53.095 2683.9439,-54.9616 2687.3843,-61.0579\"/>\n</g>\n<!-- 33 -->\n<g id=\"node34\" class=\"node\">\n<title>33</title>\n<polygon fill=\"#eead7f\" stroke=\"#000000\" points=\"3531,-365 3370,-365 3370,-297 3531,-297 3531,-365\"/>\n<text text-anchor=\"middle\" x=\"3450.5\" y=\"-349.8\" font-family=\"Helvetica,sans-Serif\" font-size=\"14.00\" fill=\"#000000\">기차 거리 &lt;= 0.345</text>\n<text text-anchor=\"middle\" x=\"3450.5\" y=\"-334.8\" font-family=\"Helvetica,sans-Serif\" font-size=\"14.00\" fill=\"#000000\">squared_error = 0.005</text>\n<text text-anchor=\"middle\" x=\"3450.5\" y=\"-319.8\" font-family=\"Helvetica,sans-Serif\" font-size=\"14.00\" fill=\"#000000\">samples = 1581</text>\n<text text-anchor=\"middle\" x=\"3450.5\" y=\"-304.8\" font-family=\"Helvetica,sans-Serif\" font-size=\"14.00\" fill=\"#000000\">value = 1.724</text>\n</g>\n<!-- 32&#45;&gt;33 -->\n<g id=\"edge33\" class=\"edge\">\n<title>32&#45;&gt;33</title>\n<path fill=\"none\" stroke=\"#000000\" d=\"M3450.5,-400.9465C3450.5,-392.776 3450.5,-383.9318 3450.5,-375.3697\"/>\n<polygon fill=\"#000000\" stroke=\"#000000\" points=\"3454.0001,-375.13 3450.5,-365.13 3447.0001,-375.13 3454.0001,-375.13\"/>\n</g>\n<!-- 48 -->\n<g id=\"node49\" class=\"node\">\n<title>48</title>\n<polygon fill=\"#ea995e\" stroke=\"#000000\" points=\"4694,-365 4533,-365 4533,-297 4694,-297 4694,-365\"/>\n<text text-anchor=\"middle\" x=\"4613.5\" y=\"-349.8\" font-family=\"Helvetica,sans-Serif\" font-size=\"14.00\" fill=\"#000000\">병원 거리 &lt;= &#45;1.171</text>\n<text text-anchor=\"middle\" x=\"4613.5\" y=\"-334.8\" font-family=\"Helvetica,sans-Serif\" font-size=\"14.00\" fill=\"#000000\">squared_error = 0.005</text>\n<text text-anchor=\"middle\" x=\"4613.5\" y=\"-319.8\" font-family=\"Helvetica,sans-Serif\" font-size=\"14.00\" fill=\"#000000\">samples = 1919</text>\n<text text-anchor=\"middle\" x=\"4613.5\" y=\"-304.8\" font-family=\"Helvetica,sans-Serif\" font-size=\"14.00\" fill=\"#000000\">value = 1.822</text>\n</g>\n<!-- 32&#45;&gt;48 -->\n<g id=\"edge48\" class=\"edge\">\n<title>32&#45;&gt;48</title>\n<path fill=\"none\" stroke=\"#000000\" d=\"M3531.3565,-427.7695C3741.1581,-409.0082 4301.9401,-358.8609 4522.5479,-339.1333\"/>\n<polygon fill=\"#000000\" stroke=\"#000000\" points=\"4523.1447,-342.594 4532.7932,-338.2171 4522.5211,-335.6218 4523.1447,-342.594\"/>\n</g>\n<!-- 34 -->\n<g id=\"node35\" class=\"node\">\n<title>34</title>\n<polygon fill=\"#eeaa7a\" stroke=\"#000000\" points=\"3440,-261 3279,-261 3279,-193 3440,-193 3440,-261\"/>\n<text text-anchor=\"middle\" x=\"3359.5\" y=\"-245.8\" font-family=\"Helvetica,sans-Serif\" font-size=\"14.00\" fill=\"#000000\">공항 거리 &lt;= 1.021</text>\n<text text-anchor=\"middle\" x=\"3359.5\" y=\"-230.8\" font-family=\"Helvetica,sans-Serif\" font-size=\"14.00\" fill=\"#000000\">squared_error = 0.004</text>\n<text text-anchor=\"middle\" x=\"3359.5\" y=\"-215.8\" font-family=\"Helvetica,sans-Serif\" font-size=\"14.00\" fill=\"#000000\">samples = 1114</text>\n<text text-anchor=\"middle\" x=\"3359.5\" y=\"-200.8\" font-family=\"Helvetica,sans-Serif\" font-size=\"14.00\" fill=\"#000000\">value = 1.738</text>\n</g>\n<!-- 33&#45;&gt;34 -->\n<g id=\"edge34\" class=\"edge\">\n<title>33&#45;&gt;34</title>\n<path fill=\"none\" stroke=\"#000000\" d=\"M3420.7032,-296.9465C3412.847,-287.968 3404.2788,-278.1758 3396.1087,-268.8385\"/>\n<polygon fill=\"#000000\" stroke=\"#000000\" points=\"3398.5829,-266.351 3389.3637,-261.13 3393.3148,-270.9606 3398.5829,-266.351\"/>\n</g>\n<!-- 41 -->\n<g id=\"node42\" class=\"node\">\n<title>41</title>\n<polygon fill=\"#f0b58a\" stroke=\"#000000\" points=\"3799,-261 3638,-261 3638,-193 3799,-193 3799,-261\"/>\n<text text-anchor=\"middle\" x=\"3718.5\" y=\"-245.8\" font-family=\"Helvetica,sans-Serif\" font-size=\"14.00\" fill=\"#000000\">방 개수1 &lt;= 0.5</text>\n<text text-anchor=\"middle\" x=\"3718.5\" y=\"-230.8\" font-family=\"Helvetica,sans-Serif\" font-size=\"14.00\" fill=\"#000000\">squared_error = 0.004</text>\n<text text-anchor=\"middle\" x=\"3718.5\" y=\"-215.8\" font-family=\"Helvetica,sans-Serif\" font-size=\"14.00\" fill=\"#000000\">samples = 467</text>\n<text text-anchor=\"middle\" x=\"3718.5\" y=\"-200.8\" font-family=\"Helvetica,sans-Serif\" font-size=\"14.00\" fill=\"#000000\">value = 1.688</text>\n</g>\n<!-- 33&#45;&gt;41 -->\n<g id=\"edge41\" class=\"edge\">\n<title>33&#45;&gt;41</title>\n<path fill=\"none\" stroke=\"#000000\" d=\"M3531.2723,-299.6555C3561.8608,-287.7854 3596.8678,-274.2005 3628.2717,-262.014\"/>\n<polygon fill=\"#000000\" stroke=\"#000000\" points=\"3629.8367,-265.161 3637.8932,-258.2803 3627.3043,-258.6351 3629.8367,-265.161\"/>\n</g>\n<!-- 35 -->\n<g id=\"node36\" class=\"node\">\n<title>35</title>\n<polygon fill=\"#eda876\" stroke=\"#000000\" points=\"3172,-157 3011,-157 3011,-89 3172,-89 3172,-157\"/>\n<text text-anchor=\"middle\" x=\"3091.5\" y=\"-141.8\" font-family=\"Helvetica,sans-Serif\" font-size=\"14.00\" fill=\"#000000\">방 개수3 &lt;= 0.5</text>\n<text text-anchor=\"middle\" x=\"3091.5\" y=\"-126.8\" font-family=\"Helvetica,sans-Serif\" font-size=\"14.00\" fill=\"#000000\">squared_error = 0.004</text>\n<text text-anchor=\"middle\" x=\"3091.5\" y=\"-111.8\" font-family=\"Helvetica,sans-Serif\" font-size=\"14.00\" fill=\"#000000\">samples = 900</text>\n<text text-anchor=\"middle\" x=\"3091.5\" y=\"-96.8\" font-family=\"Helvetica,sans-Serif\" font-size=\"14.00\" fill=\"#000000\">value = 1.749</text>\n</g>\n<!-- 34&#45;&gt;35 -->\n<g id=\"edge35\" class=\"edge\">\n<title>34&#45;&gt;35</title>\n<path fill=\"none\" stroke=\"#000000\" d=\"M3278.7277,-195.6555C3248.1392,-183.7854 3213.1322,-170.2005 3181.7283,-158.014\"/>\n<polygon fill=\"#000000\" stroke=\"#000000\" points=\"3182.6957,-154.6351 3172.1068,-154.2803 3180.1633,-161.161 3182.6957,-154.6351\"/>\n</g>\n<!-- 38 -->\n<g id=\"node39\" class=\"node\">\n<title>38</title>\n<polygon fill=\"#efb489\" stroke=\"#000000\" points=\"3440,-157 3279,-157 3279,-89 3440,-89 3440,-157\"/>\n<text text-anchor=\"middle\" x=\"3359.5\" y=\"-141.8\" font-family=\"Helvetica,sans-Serif\" font-size=\"14.00\" fill=\"#000000\">방 개수1 &lt;= 0.5</text>\n<text text-anchor=\"middle\" x=\"3359.5\" y=\"-126.8\" font-family=\"Helvetica,sans-Serif\" font-size=\"14.00\" fill=\"#000000\">squared_error = 0.005</text>\n<text text-anchor=\"middle\" x=\"3359.5\" y=\"-111.8\" font-family=\"Helvetica,sans-Serif\" font-size=\"14.00\" fill=\"#000000\">samples = 214</text>\n<text text-anchor=\"middle\" x=\"3359.5\" y=\"-96.8\" font-family=\"Helvetica,sans-Serif\" font-size=\"14.00\" fill=\"#000000\">value = 1.694</text>\n</g>\n<!-- 34&#45;&gt;38 -->\n<g id=\"edge38\" class=\"edge\">\n<title>34&#45;&gt;38</title>\n<path fill=\"none\" stroke=\"#000000\" d=\"M3359.5,-192.9465C3359.5,-184.776 3359.5,-175.9318 3359.5,-167.3697\"/>\n<polygon fill=\"#000000\" stroke=\"#000000\" points=\"3363.0001,-167.13 3359.5,-157.13 3356.0001,-167.13 3363.0001,-167.13\"/>\n</g>\n<!-- 36 -->\n<g id=\"node37\" class=\"node\">\n<title>36</title>\n<polygon fill=\"#edaa79\" stroke=\"#000000\" points=\"2993,-53 2832,-53 2832,0 2993,0 2993,-53\"/>\n<text text-anchor=\"middle\" x=\"2912.5\" y=\"-37.8\" font-family=\"Helvetica,sans-Serif\" font-size=\"14.00\" fill=\"#000000\">squared_error = 0.004</text>\n<text text-anchor=\"middle\" x=\"2912.5\" y=\"-22.8\" font-family=\"Helvetica,sans-Serif\" font-size=\"14.00\" fill=\"#000000\">samples = 664</text>\n<text text-anchor=\"middle\" x=\"2912.5\" y=\"-7.8\" font-family=\"Helvetica,sans-Serif\" font-size=\"14.00\" fill=\"#000000\">value = 1.741</text>\n</g>\n<!-- 35&#45;&gt;36 -->\n<g id=\"edge36\" class=\"edge\">\n<title>35&#45;&gt;36</title>\n<path fill=\"none\" stroke=\"#000000\" d=\"M3028.3913,-88.9777C3009.6208,-78.8584 2989.1494,-67.8222 2970.7063,-57.8794\"/>\n<polygon fill=\"#000000\" stroke=\"#000000\" points=\"2972.295,-54.7597 2961.8317,-53.095 2968.9732,-60.9213 2972.295,-54.7597\"/>\n</g>\n<!-- 37 -->\n<g id=\"node38\" class=\"node\">\n<title>37</title>\n<polygon fill=\"#eca36f\" stroke=\"#000000\" points=\"3172,-53 3011,-53 3011,0 3172,0 3172,-53\"/>\n<text text-anchor=\"middle\" x=\"3091.5\" y=\"-37.8\" font-family=\"Helvetica,sans-Serif\" font-size=\"14.00\" fill=\"#000000\">squared_error = 0.003</text>\n<text text-anchor=\"middle\" x=\"3091.5\" y=\"-22.8\" font-family=\"Helvetica,sans-Serif\" font-size=\"14.00\" fill=\"#000000\">samples = 236</text>\n<text text-anchor=\"middle\" x=\"3091.5\" y=\"-7.8\" font-family=\"Helvetica,sans-Serif\" font-size=\"14.00\" fill=\"#000000\">value = 1.773</text>\n</g>\n<!-- 35&#45;&gt;37 -->\n<g id=\"edge37\" class=\"edge\">\n<title>35&#45;&gt;37</title>\n<path fill=\"none\" stroke=\"#000000\" d=\"M3091.5,-88.9777C3091.5,-80.7364 3091.5,-71.887 3091.5,-63.5153\"/>\n<polygon fill=\"#000000\" stroke=\"#000000\" points=\"3095.0001,-63.2484 3091.5,-53.2485 3088.0001,-63.2485 3095.0001,-63.2484\"/>\n</g>\n<!-- 39 -->\n<g id=\"node40\" class=\"node\">\n<title>39</title>\n<polygon fill=\"#efb285\" stroke=\"#000000\" points=\"3351,-53 3190,-53 3190,0 3351,0 3351,-53\"/>\n<text text-anchor=\"middle\" x=\"3270.5\" y=\"-37.8\" font-family=\"Helvetica,sans-Serif\" font-size=\"14.00\" fill=\"#000000\">squared_error = 0.003</text>\n<text text-anchor=\"middle\" x=\"3270.5\" y=\"-22.8\" font-family=\"Helvetica,sans-Serif\" font-size=\"14.00\" fill=\"#000000\">samples = 187</text>\n<text text-anchor=\"middle\" x=\"3270.5\" y=\"-7.8\" font-family=\"Helvetica,sans-Serif\" font-size=\"14.00\" fill=\"#000000\">value = 1.704</text>\n</g>\n<!-- 38&#45;&gt;39 -->\n<g id=\"edge39\" class=\"edge\">\n<title>38&#45;&gt;39</title>\n<path fill=\"none\" stroke=\"#000000\" d=\"M3328.1219,-88.9777C3319.6766,-79.8207 3310.5389,-69.9129 3302.0825,-60.744\"/>\n<polygon fill=\"#000000\" stroke=\"#000000\" points=\"3304.5221,-58.2266 3295.1696,-53.2485 3299.3764,-62.9723 3304.5221,-58.2266\"/>\n</g>\n<!-- 40 -->\n<g id=\"node41\" class=\"node\">\n<title>40</title>\n<polygon fill=\"#f2c29f\" stroke=\"#000000\" points=\"3530,-53 3369,-53 3369,0 3530,0 3530,-53\"/>\n<text text-anchor=\"middle\" x=\"3449.5\" y=\"-37.8\" font-family=\"Helvetica,sans-Serif\" font-size=\"14.00\" fill=\"#000000\">squared_error = 0.011</text>\n<text text-anchor=\"middle\" x=\"3449.5\" y=\"-22.8\" font-family=\"Helvetica,sans-Serif\" font-size=\"14.00\" fill=\"#000000\">samples = 27</text>\n<text text-anchor=\"middle\" x=\"3449.5\" y=\"-7.8\" font-family=\"Helvetica,sans-Serif\" font-size=\"14.00\" fill=\"#000000\">value = 1.626</text>\n</g>\n<!-- 38&#45;&gt;40 -->\n<g id=\"edge40\" class=\"edge\">\n<title>38&#45;&gt;40</title>\n<path fill=\"none\" stroke=\"#000000\" d=\"M3391.2306,-88.9777C3399.7708,-79.8207 3409.0113,-69.9129 3417.5626,-60.744\"/>\n<polygon fill=\"#000000\" stroke=\"#000000\" points=\"3420.2923,-62.9488 3424.5532,-53.2485 3415.1731,-58.1744 3420.2923,-62.9488\"/>\n</g>\n<!-- 42 -->\n<g id=\"node43\" class=\"node\">\n<title>42</title>\n<polygon fill=\"#efb388\" stroke=\"#000000\" points=\"3799,-157 3638,-157 3638,-89 3799,-89 3799,-157\"/>\n<text text-anchor=\"middle\" x=\"3718.5\" y=\"-141.8\" font-family=\"Helvetica,sans-Serif\" font-size=\"14.00\" fill=\"#000000\">공항 거리 &lt;= 2.166</text>\n<text text-anchor=\"middle\" x=\"3718.5\" y=\"-126.8\" font-family=\"Helvetica,sans-Serif\" font-size=\"14.00\" fill=\"#000000\">squared_error = 0.003</text>\n<text text-anchor=\"middle\" x=\"3718.5\" y=\"-111.8\" font-family=\"Helvetica,sans-Serif\" font-size=\"14.00\" fill=\"#000000\">samples = 428</text>\n<text text-anchor=\"middle\" x=\"3718.5\" y=\"-96.8\" font-family=\"Helvetica,sans-Serif\" font-size=\"14.00\" fill=\"#000000\">value = 1.696</text>\n</g>\n<!-- 41&#45;&gt;42 -->\n<g id=\"edge42\" class=\"edge\">\n<title>41&#45;&gt;42</title>\n<path fill=\"none\" stroke=\"#000000\" d=\"M3718.5,-192.9465C3718.5,-184.776 3718.5,-175.9318 3718.5,-167.3697\"/>\n<polygon fill=\"#000000\" stroke=\"#000000\" points=\"3722.0001,-167.13 3718.5,-157.13 3715.0001,-167.13 3722.0001,-167.13\"/>\n</g>\n<!-- 45 -->\n<g id=\"node46\" class=\"node\">\n<title>45</title>\n<polygon fill=\"#f3c5a5\" stroke=\"#000000\" points=\"4067,-157 3906,-157 3906,-89 4067,-89 4067,-157\"/>\n<text text-anchor=\"middle\" x=\"3986.5\" y=\"-141.8\" font-family=\"Helvetica,sans-Serif\" font-size=\"14.00\" fill=\"#000000\">지하철 거리 &lt;= 1.423</text>\n<text text-anchor=\"middle\" x=\"3986.5\" y=\"-126.8\" font-family=\"Helvetica,sans-Serif\" font-size=\"14.00\" fill=\"#000000\">squared_error = 0.007</text>\n<text text-anchor=\"middle\" x=\"3986.5\" y=\"-111.8\" font-family=\"Helvetica,sans-Serif\" font-size=\"14.00\" fill=\"#000000\">samples = 39</text>\n<text text-anchor=\"middle\" x=\"3986.5\" y=\"-96.8\" font-family=\"Helvetica,sans-Serif\" font-size=\"14.00\" fill=\"#000000\">value = 1.609</text>\n</g>\n<!-- 41&#45;&gt;45 -->\n<g id=\"edge45\" class=\"edge\">\n<title>41&#45;&gt;45</title>\n<path fill=\"none\" stroke=\"#000000\" d=\"M3799.2723,-195.6555C3829.8608,-183.7854 3864.8678,-170.2005 3896.2717,-158.014\"/>\n<polygon fill=\"#000000\" stroke=\"#000000\" points=\"3897.8367,-161.161 3905.8932,-154.2803 3895.3043,-154.6351 3897.8367,-161.161\"/>\n</g>\n<!-- 43 -->\n<g id=\"node44\" class=\"node\">\n<title>43</title>\n<polygon fill=\"#efb387\" stroke=\"#000000\" points=\"3709,-53 3548,-53 3548,0 3709,0 3709,-53\"/>\n<text text-anchor=\"middle\" x=\"3628.5\" y=\"-37.8\" font-family=\"Helvetica,sans-Serif\" font-size=\"14.00\" fill=\"#000000\">squared_error = 0.003</text>\n<text text-anchor=\"middle\" x=\"3628.5\" y=\"-22.8\" font-family=\"Helvetica,sans-Serif\" font-size=\"14.00\" fill=\"#000000\">samples = 425</text>\n<text text-anchor=\"middle\" x=\"3628.5\" y=\"-7.8\" font-family=\"Helvetica,sans-Serif\" font-size=\"14.00\" fill=\"#000000\">value = 1.697</text>\n</g>\n<!-- 42&#45;&gt;43 -->\n<g id=\"edge43\" class=\"edge\">\n<title>42&#45;&gt;43</title>\n<path fill=\"none\" stroke=\"#000000\" d=\"M3686.7694,-88.9777C3678.2292,-79.8207 3668.9887,-69.9129 3660.4374,-60.744\"/>\n<polygon fill=\"#000000\" stroke=\"#000000\" points=\"3662.8269,-58.1744 3653.4468,-53.2485 3657.7077,-62.9488 3662.8269,-58.1744\"/>\n</g>\n<!-- 44 -->\n<g id=\"node45\" class=\"node\">\n<title>44</title>\n<polygon fill=\"#fae7da\" stroke=\"#000000\" points=\"3888,-53 3727,-53 3727,0 3888,0 3888,-53\"/>\n<text text-anchor=\"middle\" x=\"3807.5\" y=\"-37.8\" font-family=\"Helvetica,sans-Serif\" font-size=\"14.00\" fill=\"#000000\">squared_error = 0.014</text>\n<text text-anchor=\"middle\" x=\"3807.5\" y=\"-22.8\" font-family=\"Helvetica,sans-Serif\" font-size=\"14.00\" fill=\"#000000\">samples = 3</text>\n<text text-anchor=\"middle\" x=\"3807.5\" y=\"-7.8\" font-family=\"Helvetica,sans-Serif\" font-size=\"14.00\" fill=\"#000000\">value = 1.448</text>\n</g>\n<!-- 42&#45;&gt;44 -->\n<g id=\"edge44\" class=\"edge\">\n<title>42&#45;&gt;44</title>\n<path fill=\"none\" stroke=\"#000000\" d=\"M3749.8781,-88.9777C3758.3234,-79.8207 3767.4611,-69.9129 3775.9175,-60.744\"/>\n<polygon fill=\"#000000\" stroke=\"#000000\" points=\"3778.6236,-62.9723 3782.8304,-53.2485 3773.4779,-58.2266 3778.6236,-62.9723\"/>\n</g>\n<!-- 46 -->\n<g id=\"node47\" class=\"node\">\n<title>46</title>\n<polygon fill=\"#f2c09c\" stroke=\"#000000\" points=\"4067,-53 3906,-53 3906,0 4067,0 4067,-53\"/>\n<text text-anchor=\"middle\" x=\"3986.5\" y=\"-37.8\" font-family=\"Helvetica,sans-Serif\" font-size=\"14.00\" fill=\"#000000\">squared_error = 0.005</text>\n<text text-anchor=\"middle\" x=\"3986.5\" y=\"-22.8\" font-family=\"Helvetica,sans-Serif\" font-size=\"14.00\" fill=\"#000000\">samples = 30</text>\n<text text-anchor=\"middle\" x=\"3986.5\" y=\"-7.8\" font-family=\"Helvetica,sans-Serif\" font-size=\"14.00\" fill=\"#000000\">value = 1.636</text>\n</g>\n<!-- 45&#45;&gt;46 -->\n<g id=\"edge46\" class=\"edge\">\n<title>45&#45;&gt;46</title>\n<path fill=\"none\" stroke=\"#000000\" d=\"M3986.5,-88.9777C3986.5,-80.7364 3986.5,-71.887 3986.5,-63.5153\"/>\n<polygon fill=\"#000000\" stroke=\"#000000\" points=\"3990.0001,-63.2484 3986.5,-53.2485 3983.0001,-63.2485 3990.0001,-63.2484\"/>\n</g>\n<!-- 47 -->\n<g id=\"node48\" class=\"node\">\n<title>47</title>\n<polygon fill=\"#f7d8c2\" stroke=\"#000000\" points=\"4246,-53 4085,-53 4085,0 4246,0 4246,-53\"/>\n<text text-anchor=\"middle\" x=\"4165.5\" y=\"-37.8\" font-family=\"Helvetica,sans-Serif\" font-size=\"14.00\" fill=\"#000000\">squared_error = 0.003</text>\n<text text-anchor=\"middle\" x=\"4165.5\" y=\"-22.8\" font-family=\"Helvetica,sans-Serif\" font-size=\"14.00\" fill=\"#000000\">samples = 9</text>\n<text text-anchor=\"middle\" x=\"4165.5\" y=\"-7.8\" font-family=\"Helvetica,sans-Serif\" font-size=\"14.00\" fill=\"#000000\">value = 1.52</text>\n</g>\n<!-- 45&#45;&gt;47 -->\n<g id=\"edge47\" class=\"edge\">\n<title>45&#45;&gt;47</title>\n<path fill=\"none\" stroke=\"#000000\" d=\"M4049.6087,-88.9777C4068.3792,-78.8584 4088.8506,-67.8222 4107.2937,-57.8794\"/>\n<polygon fill=\"#000000\" stroke=\"#000000\" points=\"4109.0268,-60.9213 4116.1683,-53.095 4105.705,-54.7597 4109.0268,-60.9213\"/>\n</g>\n<!-- 49 -->\n<g id=\"node50\" class=\"node\">\n<title>49</title>\n<polygon fill=\"#e78945\" stroke=\"#000000\" points=\"4694,-261 4533,-261 4533,-193 4694,-193 4694,-261\"/>\n<text text-anchor=\"middle\" x=\"4613.5\" y=\"-245.8\" font-family=\"Helvetica,sans-Serif\" font-size=\"14.00\" fill=\"#000000\">면적 &lt;= 1.187</text>\n<text text-anchor=\"middle\" x=\"4613.5\" y=\"-230.8\" font-family=\"Helvetica,sans-Serif\" font-size=\"14.00\" fill=\"#000000\">squared_error = 0.003</text>\n<text text-anchor=\"middle\" x=\"4613.5\" y=\"-215.8\" font-family=\"Helvetica,sans-Serif\" font-size=\"14.00\" fill=\"#000000\">samples = 395</text>\n<text text-anchor=\"middle\" x=\"4613.5\" y=\"-200.8\" font-family=\"Helvetica,sans-Serif\" font-size=\"14.00\" fill=\"#000000\">value = 1.898</text>\n</g>\n<!-- 48&#45;&gt;49 -->\n<g id=\"edge49\" class=\"edge\">\n<title>48&#45;&gt;49</title>\n<path fill=\"none\" stroke=\"#000000\" d=\"M4613.5,-296.9465C4613.5,-288.776 4613.5,-279.9318 4613.5,-271.3697\"/>\n<polygon fill=\"#000000\" stroke=\"#000000\" points=\"4617.0001,-271.13 4613.5,-261.13 4610.0001,-271.13 4617.0001,-271.13\"/>\n</g>\n<!-- 56 -->\n<g id=\"node57\" class=\"node\">\n<title>56</title>\n<polygon fill=\"#eb9d65\" stroke=\"#000000\" points=\"5230,-261 5069,-261 5069,-193 5230,-193 5230,-261\"/>\n<text text-anchor=\"middle\" x=\"5149.5\" y=\"-245.8\" font-family=\"Helvetica,sans-Serif\" font-size=\"14.00\" fill=\"#000000\">면적 &lt;= 1.616</text>\n<text text-anchor=\"middle\" x=\"5149.5\" y=\"-230.8\" font-family=\"Helvetica,sans-Serif\" font-size=\"14.00\" fill=\"#000000\">squared_error = 0.003</text>\n<text text-anchor=\"middle\" x=\"5149.5\" y=\"-215.8\" font-family=\"Helvetica,sans-Serif\" font-size=\"14.00\" fill=\"#000000\">samples = 1524</text>\n<text text-anchor=\"middle\" x=\"5149.5\" y=\"-200.8\" font-family=\"Helvetica,sans-Serif\" font-size=\"14.00\" fill=\"#000000\">value = 1.803</text>\n</g>\n<!-- 48&#45;&gt;56 -->\n<g id=\"edge56\" class=\"edge\">\n<title>48&#45;&gt;56</title>\n<path fill=\"none\" stroke=\"#000000\" d=\"M4694.0346,-315.3739C4791.8941,-296.3862 4956.5645,-264.4352 5058.8002,-244.5985\"/>\n<polygon fill=\"#000000\" stroke=\"#000000\" points=\"5059.6508,-247.9988 5068.801,-242.658 5058.3174,-241.1269 5059.6508,-247.9988\"/>\n</g>\n<!-- 50 -->\n<g id=\"node51\" class=\"node\">\n<title>50</title>\n<polygon fill=\"#e88d4d\" stroke=\"#000000\" points=\"4604,-157 4443,-157 4443,-89 4604,-89 4604,-157\"/>\n<text text-anchor=\"middle\" x=\"4523.5\" y=\"-141.8\" font-family=\"Helvetica,sans-Serif\" font-size=\"14.00\" fill=\"#000000\">면적 &lt;= 0.818</text>\n<text text-anchor=\"middle\" x=\"4523.5\" y=\"-126.8\" font-family=\"Helvetica,sans-Serif\" font-size=\"14.00\" fill=\"#000000\">squared_error = 0.002</text>\n<text text-anchor=\"middle\" x=\"4523.5\" y=\"-111.8\" font-family=\"Helvetica,sans-Serif\" font-size=\"14.00\" fill=\"#000000\">samples = 231</text>\n<text text-anchor=\"middle\" x=\"4523.5\" y=\"-96.8\" font-family=\"Helvetica,sans-Serif\" font-size=\"14.00\" fill=\"#000000\">value = 1.876</text>\n</g>\n<!-- 49&#45;&gt;50 -->\n<g id=\"edge50\" class=\"edge\">\n<title>49&#45;&gt;50</title>\n<path fill=\"none\" stroke=\"#000000\" d=\"M4584.0306,-192.9465C4576.2607,-183.968 4567.7868,-174.1758 4559.7064,-164.8385\"/>\n<polygon fill=\"#000000\" stroke=\"#000000\" points=\"4562.226,-162.4014 4553.0356,-157.13 4556.9328,-166.982 4562.226,-162.4014\"/>\n</g>\n<!-- 53 -->\n<g id=\"node54\" class=\"node\">\n<title>53</title>\n<polygon fill=\"#e5823b\" stroke=\"#000000\" points=\"4783,-157 4622,-157 4622,-89 4783,-89 4783,-157\"/>\n<text text-anchor=\"middle\" x=\"4702.5\" y=\"-141.8\" font-family=\"Helvetica,sans-Serif\" font-size=\"14.00\" fill=\"#000000\">방 개수2 &lt;= 0.5</text>\n<text text-anchor=\"middle\" x=\"4702.5\" y=\"-126.8\" font-family=\"Helvetica,sans-Serif\" font-size=\"14.00\" fill=\"#000000\">squared_error = 0.002</text>\n<text text-anchor=\"middle\" x=\"4702.5\" y=\"-111.8\" font-family=\"Helvetica,sans-Serif\" font-size=\"14.00\" fill=\"#000000\">samples = 164</text>\n<text text-anchor=\"middle\" x=\"4702.5\" y=\"-96.8\" font-family=\"Helvetica,sans-Serif\" font-size=\"14.00\" fill=\"#000000\">value = 1.929</text>\n</g>\n<!-- 49&#45;&gt;53 -->\n<g id=\"edge53\" class=\"edge\">\n<title>49&#45;&gt;53</title>\n<path fill=\"none\" stroke=\"#000000\" d=\"M4642.6419,-192.9465C4650.3255,-183.968 4658.7053,-174.1758 4666.6959,-164.8385\"/>\n<polygon fill=\"#000000\" stroke=\"#000000\" points=\"4669.4499,-167.0034 4673.2926,-157.13 4664.1315,-162.4521 4669.4499,-167.0034\"/>\n</g>\n<!-- 51 -->\n<g id=\"node52\" class=\"node\">\n<title>51</title>\n<polygon fill=\"#e99356\" stroke=\"#000000\" points=\"4425,-53 4264,-53 4264,0 4425,0 4425,-53\"/>\n<text text-anchor=\"middle\" x=\"4344.5\" y=\"-37.8\" font-family=\"Helvetica,sans-Serif\" font-size=\"14.00\" fill=\"#000000\">squared_error = 0.002</text>\n<text text-anchor=\"middle\" x=\"4344.5\" y=\"-22.8\" font-family=\"Helvetica,sans-Serif\" font-size=\"14.00\" fill=\"#000000\">samples = 83</text>\n<text text-anchor=\"middle\" x=\"4344.5\" y=\"-7.8\" font-family=\"Helvetica,sans-Serif\" font-size=\"14.00\" fill=\"#000000\">value = 1.848</text>\n</g>\n<!-- 50&#45;&gt;51 -->\n<g id=\"edge51\" class=\"edge\">\n<title>50&#45;&gt;51</title>\n<path fill=\"none\" stroke=\"#000000\" d=\"M4460.3913,-88.9777C4441.6208,-78.8584 4421.1494,-67.8222 4402.7063,-57.8794\"/>\n<polygon fill=\"#000000\" stroke=\"#000000\" points=\"4404.295,-54.7597 4393.8317,-53.095 4400.9732,-60.9213 4404.295,-54.7597\"/>\n</g>\n<!-- 52 -->\n<g id=\"node53\" class=\"node\">\n<title>52</title>\n<polygon fill=\"#e78a47\" stroke=\"#000000\" points=\"4604,-53 4443,-53 4443,0 4604,0 4604,-53\"/>\n<text text-anchor=\"middle\" x=\"4523.5\" y=\"-37.8\" font-family=\"Helvetica,sans-Serif\" font-size=\"14.00\" fill=\"#000000\">squared_error = 0.001</text>\n<text text-anchor=\"middle\" x=\"4523.5\" y=\"-22.8\" font-family=\"Helvetica,sans-Serif\" font-size=\"14.00\" fill=\"#000000\">samples = 148</text>\n<text text-anchor=\"middle\" x=\"4523.5\" y=\"-7.8\" font-family=\"Helvetica,sans-Serif\" font-size=\"14.00\" fill=\"#000000\">value = 1.891</text>\n</g>\n<!-- 50&#45;&gt;52 -->\n<g id=\"edge52\" class=\"edge\">\n<title>50&#45;&gt;52</title>\n<path fill=\"none\" stroke=\"#000000\" d=\"M4523.5,-88.9777C4523.5,-80.7364 4523.5,-71.887 4523.5,-63.5153\"/>\n<polygon fill=\"#000000\" stroke=\"#000000\" points=\"4527.0001,-63.2484 4523.5,-53.2485 4520.0001,-63.2485 4527.0001,-63.2484\"/>\n</g>\n<!-- 54 -->\n<g id=\"node55\" class=\"node\">\n<title>54</title>\n<polygon fill=\"#e58139\" stroke=\"#000000\" points=\"4783,-53 4622,-53 4622,0 4783,0 4783,-53\"/>\n<text text-anchor=\"middle\" x=\"4702.5\" y=\"-37.8\" font-family=\"Helvetica,sans-Serif\" font-size=\"14.00\" fill=\"#000000\">squared_error = 0.001</text>\n<text text-anchor=\"middle\" x=\"4702.5\" y=\"-22.8\" font-family=\"Helvetica,sans-Serif\" font-size=\"14.00\" fill=\"#000000\">samples = 147</text>\n<text text-anchor=\"middle\" x=\"4702.5\" y=\"-7.8\" font-family=\"Helvetica,sans-Serif\" font-size=\"14.00\" fill=\"#000000\">value = 1.935</text>\n</g>\n<!-- 53&#45;&gt;54 -->\n<g id=\"edge54\" class=\"edge\">\n<title>53&#45;&gt;54</title>\n<path fill=\"none\" stroke=\"#000000\" d=\"M4702.5,-88.9777C4702.5,-80.7364 4702.5,-71.887 4702.5,-63.5153\"/>\n<polygon fill=\"#000000\" stroke=\"#000000\" points=\"4706.0001,-63.2484 4702.5,-53.2485 4699.0001,-63.2485 4706.0001,-63.2484\"/>\n</g>\n<!-- 55 -->\n<g id=\"node56\" class=\"node\">\n<title>55</title>\n<polygon fill=\"#e88d4c\" stroke=\"#000000\" points=\"4962,-53 4801,-53 4801,0 4962,0 4962,-53\"/>\n<text text-anchor=\"middle\" x=\"4881.5\" y=\"-37.8\" font-family=\"Helvetica,sans-Serif\" font-size=\"14.00\" fill=\"#000000\">squared_error = 0.002</text>\n<text text-anchor=\"middle\" x=\"4881.5\" y=\"-22.8\" font-family=\"Helvetica,sans-Serif\" font-size=\"14.00\" fill=\"#000000\">samples = 17</text>\n<text text-anchor=\"middle\" x=\"4881.5\" y=\"-7.8\" font-family=\"Helvetica,sans-Serif\" font-size=\"14.00\" fill=\"#000000\">value = 1.876</text>\n</g>\n<!-- 53&#45;&gt;55 -->\n<g id=\"edge55\" class=\"edge\">\n<title>53&#45;&gt;55</title>\n<path fill=\"none\" stroke=\"#000000\" d=\"M4765.6087,-88.9777C4784.3792,-78.8584 4804.8506,-67.8222 4823.2937,-57.8794\"/>\n<polygon fill=\"#000000\" stroke=\"#000000\" points=\"4825.0268,-60.9213 4832.1683,-53.095 4821.705,-54.7597 4825.0268,-60.9213\"/>\n</g>\n<!-- 57 -->\n<g id=\"node58\" class=\"node\">\n<title>57</title>\n<polygon fill=\"#eb9f69\" stroke=\"#000000\" points=\"5230,-157 5069,-157 5069,-89 5230,-89 5230,-157\"/>\n<text text-anchor=\"middle\" x=\"5149.5\" y=\"-141.8\" font-family=\"Helvetica,sans-Serif\" font-size=\"14.00\" fill=\"#000000\">기차 거리 &lt;= 0.856</text>\n<text text-anchor=\"middle\" x=\"5149.5\" y=\"-126.8\" font-family=\"Helvetica,sans-Serif\" font-size=\"14.00\" fill=\"#000000\">squared_error = 0.003</text>\n<text text-anchor=\"middle\" x=\"5149.5\" y=\"-111.8\" font-family=\"Helvetica,sans-Serif\" font-size=\"14.00\" fill=\"#000000\">samples = 1254</text>\n<text text-anchor=\"middle\" x=\"5149.5\" y=\"-96.8\" font-family=\"Helvetica,sans-Serif\" font-size=\"14.00\" fill=\"#000000\">value = 1.791</text>\n</g>\n<!-- 56&#45;&gt;57 -->\n<g id=\"edge57\" class=\"edge\">\n<title>56&#45;&gt;57</title>\n<path fill=\"none\" stroke=\"#000000\" d=\"M5149.5,-192.9465C5149.5,-184.776 5149.5,-175.9318 5149.5,-167.3697\"/>\n<polygon fill=\"#000000\" stroke=\"#000000\" points=\"5153.0001,-167.13 5149.5,-157.13 5146.0001,-167.13 5153.0001,-167.13\"/>\n</g>\n<!-- 60 -->\n<g id=\"node61\" class=\"node\">\n<title>60</title>\n<polygon fill=\"#e89253\" stroke=\"#000000\" points=\"5499,-157 5338,-157 5338,-89 5499,-89 5499,-157\"/>\n<text text-anchor=\"middle\" x=\"5418.5\" y=\"-141.8\" font-family=\"Helvetica,sans-Serif\" font-size=\"14.00\" fill=\"#000000\">기차 거리 &lt;= 0.911</text>\n<text text-anchor=\"middle\" x=\"5418.5\" y=\"-126.8\" font-family=\"Helvetica,sans-Serif\" font-size=\"14.00\" fill=\"#000000\">squared_error = 0.004</text>\n<text text-anchor=\"middle\" x=\"5418.5\" y=\"-111.8\" font-family=\"Helvetica,sans-Serif\" font-size=\"14.00\" fill=\"#000000\">samples = 270</text>\n<text text-anchor=\"middle\" x=\"5418.5\" y=\"-96.8\" font-family=\"Helvetica,sans-Serif\" font-size=\"14.00\" fill=\"#000000\">value = 1.855</text>\n</g>\n<!-- 56&#45;&gt;60 -->\n<g id=\"edge60\" class=\"edge\">\n<title>56&#45;&gt;60</title>\n<path fill=\"none\" stroke=\"#000000\" d=\"M5230.2089,-195.7966C5261.0636,-183.8676 5296.44,-170.1905 5328.138,-157.9355\"/>\n<polygon fill=\"#000000\" stroke=\"#000000\" points=\"5329.783,-161.052 5337.8481,-154.1814 5327.2588,-154.523 5329.783,-161.052\"/>\n</g>\n<!-- 58 -->\n<g id=\"node59\" class=\"node\">\n<title>58</title>\n<polygon fill=\"#eb9c63\" stroke=\"#000000\" points=\"5141,-53 4980,-53 4980,0 5141,0 5141,-53\"/>\n<text text-anchor=\"middle\" x=\"5060.5\" y=\"-37.8\" font-family=\"Helvetica,sans-Serif\" font-size=\"14.00\" fill=\"#000000\">squared_error = 0.003</text>\n<text text-anchor=\"middle\" x=\"5060.5\" y=\"-22.8\" font-family=\"Helvetica,sans-Serif\" font-size=\"14.00\" fill=\"#000000\">samples = 641</text>\n<text text-anchor=\"middle\" x=\"5060.5\" y=\"-7.8\" font-family=\"Helvetica,sans-Serif\" font-size=\"14.00\" fill=\"#000000\">value = 1.808</text>\n</g>\n<!-- 57&#45;&gt;58 -->\n<g id=\"edge58\" class=\"edge\">\n<title>57&#45;&gt;58</title>\n<path fill=\"none\" stroke=\"#000000\" d=\"M5118.1219,-88.9777C5109.6766,-79.8207 5100.5389,-69.9129 5092.0825,-60.744\"/>\n<polygon fill=\"#000000\" stroke=\"#000000\" points=\"5094.5221,-58.2266 5085.1696,-53.2485 5089.3764,-62.9723 5094.5221,-58.2266\"/>\n</g>\n<!-- 59 -->\n<g id=\"node60\" class=\"node\">\n<title>59</title>\n<polygon fill=\"#eca36e\" stroke=\"#000000\" points=\"5320,-53 5159,-53 5159,0 5320,0 5320,-53\"/>\n<text text-anchor=\"middle\" x=\"5239.5\" y=\"-37.8\" font-family=\"Helvetica,sans-Serif\" font-size=\"14.00\" fill=\"#000000\">squared_error = 0.001</text>\n<text text-anchor=\"middle\" x=\"5239.5\" y=\"-22.8\" font-family=\"Helvetica,sans-Serif\" font-size=\"14.00\" fill=\"#000000\">samples = 613</text>\n<text text-anchor=\"middle\" x=\"5239.5\" y=\"-7.8\" font-family=\"Helvetica,sans-Serif\" font-size=\"14.00\" fill=\"#000000\">value = 1.774</text>\n</g>\n<!-- 57&#45;&gt;59 -->\n<g id=\"edge59\" class=\"edge\">\n<title>57&#45;&gt;59</title>\n<path fill=\"none\" stroke=\"#000000\" d=\"M5181.2306,-88.9777C5189.7708,-79.8207 5199.0113,-69.9129 5207.5626,-60.744\"/>\n<polygon fill=\"#000000\" stroke=\"#000000\" points=\"5210.2923,-62.9488 5214.5532,-53.2485 5205.1731,-58.1744 5210.2923,-62.9488\"/>\n</g>\n<!-- 61 -->\n<g id=\"node62\" class=\"node\">\n<title>61</title>\n<polygon fill=\"#e78c4b\" stroke=\"#000000\" points=\"5499,-53 5338,-53 5338,0 5499,0 5499,-53\"/>\n<text text-anchor=\"middle\" x=\"5418.5\" y=\"-37.8\" font-family=\"Helvetica,sans-Serif\" font-size=\"14.00\" fill=\"#000000\">squared_error = 0.004</text>\n<text text-anchor=\"middle\" x=\"5418.5\" y=\"-22.8\" font-family=\"Helvetica,sans-Serif\" font-size=\"14.00\" fill=\"#000000\">samples = 150</text>\n<text text-anchor=\"middle\" x=\"5418.5\" y=\"-7.8\" font-family=\"Helvetica,sans-Serif\" font-size=\"14.00\" fill=\"#000000\">value = 1.881</text>\n</g>\n<!-- 60&#45;&gt;61 -->\n<g id=\"edge61\" class=\"edge\">\n<title>60&#45;&gt;61</title>\n<path fill=\"none\" stroke=\"#000000\" d=\"M5418.5,-88.9777C5418.5,-80.7364 5418.5,-71.887 5418.5,-63.5153\"/>\n<polygon fill=\"#000000\" stroke=\"#000000\" points=\"5422.0001,-63.2484 5418.5,-53.2485 5415.0001,-63.2485 5422.0001,-63.2484\"/>\n</g>\n<!-- 62 -->\n<g id=\"node63\" class=\"node\">\n<title>62</title>\n<polygon fill=\"#ea995e\" stroke=\"#000000\" points=\"5678,-53 5517,-53 5517,0 5678,0 5678,-53\"/>\n<text text-anchor=\"middle\" x=\"5597.5\" y=\"-37.8\" font-family=\"Helvetica,sans-Serif\" font-size=\"14.00\" fill=\"#000000\">squared_error = 0.002</text>\n<text text-anchor=\"middle\" x=\"5597.5\" y=\"-22.8\" font-family=\"Helvetica,sans-Serif\" font-size=\"14.00\" fill=\"#000000\">samples = 120</text>\n<text text-anchor=\"middle\" x=\"5597.5\" y=\"-7.8\" font-family=\"Helvetica,sans-Serif\" font-size=\"14.00\" fill=\"#000000\">value = 1.823</text>\n</g>\n<!-- 60&#45;&gt;62 -->\n<g id=\"edge62\" class=\"edge\">\n<title>60&#45;&gt;62</title>\n<path fill=\"none\" stroke=\"#000000\" d=\"M5481.6087,-88.9777C5500.3792,-78.8584 5520.8506,-67.8222 5539.2937,-57.8794\"/>\n<polygon fill=\"#000000\" stroke=\"#000000\" points=\"5541.0268,-60.9213 5548.1683,-53.095 5537.705,-54.7597 5541.0268,-60.9213\"/>\n</g>\n</g>\n</svg>\n"
          },
          "metadata": {},
          "execution_count": 48
        }
      ]
    }
  ]
}