{
  "nbformat": 4,
  "nbformat_minor": 0,
  "metadata": {
    "colab": {
      "provenance": []
    },
    "kernelspec": {
      "name": "python3",
      "display_name": "Python 3"
    },
    "language_info": {
      "name": "python"
    }
  },
  "cells": [
    {
      "cell_type": "code",
      "execution_count": null,
      "metadata": {
        "colab": {
          "base_uri": "https://localhost:8080/"
        },
        "id": "Dm7MEf421MVP",
        "outputId": "bbbf3f5b-b9ec-4449-c839-87739acb7587"
      },
      "outputs": [
        {
          "output_type": "stream",
          "name": "stdout",
          "text": [
            "Jan\n",
            "Feb\n",
            "Mar\n",
            "Apr\n",
            "May\n",
            "Jun\n",
            "Jul\n",
            "Aug\n",
            "Sep\n",
            "Oct\n",
            "Nov\n",
            "Dec\n"
          ]
        }
      ],
      "source": [
        "print (\"Jan\\nFeb\\nMar\\nApr\\nMay\\nJun\\nJul\\nAug\\nSep\\nOct\\nNov\\nDec\")"
      ]
    },
    {
      "cell_type": "code",
      "source": [
        "print (\"I want \\\\n to be printed.\")\n",
        "print(\"I'm very *happy*\")"
      ],
      "metadata": {
        "colab": {
          "base_uri": "https://localhost:8080/"
        },
        "id": "mz83Plpy1bSc",
        "outputId": "ac440e7b-48e0-401b-cf54-5ab9d40b097f"
      },
      "execution_count": null,
      "outputs": [
        {
          "output_type": "stream",
          "name": "stdout",
          "text": [
            "I want \\n to be printed.\n",
            "I'm very *happy*\n"
          ]
        }
      ]
    },
    {
      "cell_type": "code",
      "source": [
        "print (\"Hello\\tWorld!\") # \\t is equal to 4 spaces"
      ],
      "metadata": {
        "colab": {
          "base_uri": "https://localhost:8080/"
        },
        "id": "ZJ12oCcJ1pLy",
        "outputId": "a72bc45c-b9ad-435b-f4aa-f6b150053e2b"
      },
      "execution_count": null,
      "outputs": [
        {
          "output_type": "stream",
          "name": "stdout",
          "text": [
            "Hello\tWorld!\n"
          ]
        }
      ]
    },
    {
      "cell_type": "code",
      "source": [
        "print (\"\"\"\n",
        "Routine:\n",
        "\\t- Eat\n",
        "\\t- Study\n",
        "\\t- Sleep\\n\\t- Repeat\n",
        "\"\"\")"
      ],
      "metadata": {
        "colab": {
          "base_uri": "https://localhost:8080/"
        },
        "id": "VIC4VCan1qmz",
        "outputId": "c43aa576-5337-4ffb-89c1-933a1e4c7df6"
      },
      "execution_count": null,
      "outputs": [
        {
          "output_type": "stream",
          "name": "stdout",
          "text": [
            "\n",
            "Routine:\n",
            "\t- Eat\n",
            "\t- Study\n",
            "\t- Sleep\n",
            "\t- Repeat\n",
            "\n"
          ]
        }
      ]
    },
    {
      "cell_type": "code",
      "source": [
        "print (\"Welcome to\", end = ' ') \n",
        "print (\"Python\", end = '!')"
      ],
      "metadata": {
        "colab": {
          "base_uri": "https://localhost:8080/"
        },
        "id": "YFvwki-e1vyD",
        "outputId": "e033a53c-b505-44fa-f44e-a536bad4fd75"
      },
      "execution_count": null,
      "outputs": [
        {
          "output_type": "stream",
          "name": "stdout",
          "text": [
            "Welcome to Python!"
          ]
        }
      ]
    },
    {
      "cell_type": "code",
      "source": [
        "print(\"Python \" , end = '@') # ends the output with '@'."
      ],
      "metadata": {
        "colab": {
          "base_uri": "https://localhost:8080/"
        },
        "id": "18qjHqAa1yb3",
        "outputId": "f073d8d1-cd43-4dc3-9b3f-2938bda25cf7"
      },
      "execution_count": null,
      "outputs": [
        {
          "output_type": "stream",
          "name": "stdout",
          "text": [
            "Python @"
          ]
        }
      ]
    },
    {
      "cell_type": "code",
      "source": [
        "print(1, 2, 3, 4)\n",
        "print(1, 2, 3, 4, sep='#')   # separate= sep\" \":<- 공백 안 내가 구분짓고 싶은 기호,문자를 넣으면 사이사이에 입력됨\n",
        "print(1, 2, 3, 4, sep='*', end='&')  # end\" \"<- 공백 안 내가 넣고싶은 기호,문자 넣으면 제일 마지막에 입력됨"
      ],
      "metadata": {
        "colab": {
          "base_uri": "https://localhost:8080/"
        },
        "id": "yMYyBi0b3ijH",
        "outputId": "b2612e6f-4e3e-49ae-9024-8204dd59f0ff"
      },
      "execution_count": null,
      "outputs": [
        {
          "output_type": "stream",
          "name": "stdout",
          "text": [
            "1 2 3 4\n",
            "1#2#3#4\n",
            "1*2*3*4&"
          ]
        }
      ]
    },
    {
      "cell_type": "code",
      "source": [
        "1+2    # assignment line 1\n",
        "+3     # assignment line 2\n",
        "\n",
        "# Python is only calculating assignment line 1"
      ],
      "metadata": {
        "colab": {
          "base_uri": "https://localhost:8080/"
        },
        "id": "5-IjL74L3zMa",
        "outputId": "fde46b60-72b4-40a8-fb8f-a62f80b4a30d"
      },
      "execution_count": null,
      "outputs": [
        {
          "output_type": "execute_result",
          "data": {
            "text/plain": [
              "3"
            ]
          },
          "metadata": {},
          "execution_count": 8
        }
      ]
    },
    {
      "cell_type": "code",
      "source": [
        "1+2 \\\n",
        "+3"
      ],
      "metadata": {
        "colab": {
          "base_uri": "https://localhost:8080/"
        },
        "id": "v0T_Bjhs30gP",
        "outputId": "9d60b4cd-afb8-4940-b98a-8bee0c170ea6"
      },
      "execution_count": null,
      "outputs": [
        {
          "output_type": "execute_result",
          "data": {
            "text/plain": [
              "6"
            ]
          },
          "metadata": {},
          "execution_count": 9
        }
      ]
    },
    {
      "cell_type": "code",
      "source": [
        "1 + 2 + 3 + \\\n",
        "4 + 5 + 6 + \\\n",
        "7 + 8 + 9"
      ],
      "metadata": {
        "colab": {
          "base_uri": "https://localhost:8080/"
        },
        "id": "91Sr2PfD34rO",
        "outputId": "17a4dc75-889a-471a-ea0e-a513617fd912"
      },
      "execution_count": null,
      "outputs": [
        {
          "output_type": "execute_result",
          "data": {
            "text/plain": [
              "45"
            ]
          },
          "metadata": {},
          "execution_count": 10
        }
      ]
    },
    {
      "cell_type": "code",
      "source": [
        "for i in range(1,11):\n",
        "    print(i)   #press \"Tab\" one time for 1 indentation\n",
        "    if i == 6:\n",
        "        break \n",
        "      "
      ],
      "metadata": {
        "colab": {
          "base_uri": "https://localhost:8080/"
        },
        "id": "kCSNWde34ISr",
        "outputId": "fb133a54-0363-4b00-bb0c-f6896978fe5a"
      },
      "execution_count": null,
      "outputs": [
        {
          "output_type": "stream",
          "name": "stdout",
          "text": [
            "1\n",
            "2\n",
            "3\n",
            "4\n",
            "5\n",
            "6\n"
          ]
        }
      ]
    },
    {
      "cell_type": "code",
      "source": [
        "name = input(\"Enter Student Name: \")\n",
        "major = input(\"Enter Major: \")\n",
        "university = input(\"Enter University: \")\n",
        "\n",
        "print(\"\\n\")\n",
        "print(\"Printing Student Details\")\n",
        "print(\"Name\", \"Major\", \"University\")\n",
        "print(name, major, university)"
      ],
      "metadata": {
        "colab": {
          "base_uri": "https://localhost:8080/"
        },
        "id": "xFoY6nBK4J8R",
        "outputId": "13120d7d-cfc0-4075-ae2e-376c9acd9afb"
      },
      "execution_count": null,
      "outputs": [
        {
          "output_type": "stream",
          "name": "stdout",
          "text": [
            "Enter Student Name: Yuri Kim\n",
            "Enter Major: Management\n",
            "Enter University: AA\n",
            "\n",
            "\n",
            "Printing Student Details\n",
            "Name Major University\n",
            "Yuri Kim Management AA\n"
          ]
        }
      ]
    },
    {
      "cell_type": "code",
      "source": [
        "x=\"안녕하세요,\"\n",
        "y=\"여러분!\"\n",
        "print(x+y)"
      ],
      "metadata": {
        "colab": {
          "base_uri": "https://localhost:8080/"
        },
        "id": "h4GWnhQRhwYK",
        "outputId": "38b9b644-566c-439a-d5f3-2813486979ff"
      },
      "execution_count": 15,
      "outputs": [
        {
          "output_type": "stream",
          "name": "stdout",
          "text": [
            "안녕하세요,여러분!\n"
          ]
        }
      ]
    },
    {
      "cell_type": "code",
      "source": [
        "x= 2023\n",
        "print(\"새해는 %d년 입니다.\"%x)"
      ],
      "metadata": {
        "colab": {
          "base_uri": "https://localhost:8080/"
        },
        "id": "XwSWR0ZXiVsB",
        "outputId": "3104b828-a767-44f3-d193-01a89af56b6b"
      },
      "execution_count": 16,
      "outputs": [
        {
          "output_type": "stream",
          "name": "stdout",
          "text": [
            "새해는 2023년 입니다.\n"
          ]
        }
      ]
    },
    {
      "cell_type": "code",
      "source": [
        "x=5; y=20\n",
        "print(\"새해는 저의 %d번째 %d살 입니다\"%(x,y))"
      ],
      "metadata": {
        "colab": {
          "base_uri": "https://localhost:8080/"
        },
        "id": "FTGHwl-XiYr8",
        "outputId": "fc005f84-9e40-47c4-eeec-b19760c1bffc"
      },
      "execution_count": 17,
      "outputs": [
        {
          "output_type": "stream",
          "name": "stdout",
          "text": [
            "새해는 저의 5번째 20살 입니다\n"
          ]
        }
      ]
    },
    {
      "cell_type": "code",
      "source": [
        "my_tuple=(20)\n",
        "age_tuple=(5)\n",
        "print(\"그렇습니다.저는\",my_tuple + age_tuple,\"살입니다.\")"
      ],
      "metadata": {
        "colab": {
          "base_uri": "https://localhost:8080/"
        },
        "id": "dB8ZHBQkibVn",
        "outputId": "5f17ff96-8a56-4d5c-d218-1ff6f9c481c9"
      },
      "execution_count": 18,
      "outputs": [
        {
          "output_type": "stream",
          "name": "stdout",
          "text": [
            "그렇습니다.저는 25 살입니다.\n"
          ]
        }
      ]
    },
    {
      "cell_type": "code",
      "source": [
        "a={\"여러분\":\"새 해에는\",\"모두\":\"부자되세요!\"}\n",
        "print(a)"
      ],
      "metadata": {
        "colab": {
          "base_uri": "https://localhost:8080/"
        },
        "id": "z5qEfrsQieW-",
        "outputId": "cbc694d3-23fa-4472-f4f2-c1d410063f06"
      },
      "execution_count": 19,
      "outputs": [
        {
          "output_type": "stream",
          "name": "stdout",
          "text": [
            "{'여러분': '새 해에는', '모두': '부자되세요!'}\n"
          ]
        }
      ]
    },
    {
      "cell_type": "code",
      "source": [
        "a.keys()"
      ],
      "metadata": {
        "colab": {
          "base_uri": "https://localhost:8080/"
        },
        "id": "vtRObjnwii52",
        "outputId": "318e1eb5-dc50-4f66-c0ba-f92d99ebe4b1"
      },
      "execution_count": 20,
      "outputs": [
        {
          "output_type": "execute_result",
          "data": {
            "text/plain": [
              "dict_keys(['여러분', '모두'])"
            ]
          },
          "metadata": {},
          "execution_count": 20
        }
      ]
    },
    {
      "cell_type": "code",
      "source": [
        "a.values()"
      ],
      "metadata": {
        "colab": {
          "base_uri": "https://localhost:8080/"
        },
        "id": "lhc2O_gsij2Q",
        "outputId": "db63b9fd-723c-47fa-f151-bcc4d0e3b977"
      },
      "execution_count": 21,
      "outputs": [
        {
          "output_type": "execute_result",
          "data": {
            "text/plain": [
              "dict_values(['새 해에는', '부자되세요!'])"
            ]
          },
          "metadata": {},
          "execution_count": 21
        }
      ]
    },
    {
      "cell_type": "code",
      "source": [
        "print(\"건\\n강\\n하\\n세\\n요\\n!\")"
      ],
      "metadata": {
        "colab": {
          "base_uri": "https://localhost:8080/"
        },
        "id": "_qxYjlzyimwo",
        "outputId": "23e7d2e8-5b6b-4d5e-ae80-72baf0712ecf"
      },
      "execution_count": 22,
      "outputs": [
        {
          "output_type": "stream",
          "name": "stdout",
          "text": [
            "건\n",
            "강\n",
            "하\n",
            "세\n",
            "요\n",
            "!\n"
          ]
        }
      ]
    },
    {
      "cell_type": "code",
      "source": [
        "\n",
        "for i in range(10) :\n",
        "    print(\"♡\")"
      ],
      "metadata": {
        "colab": {
          "base_uri": "https://localhost:8080/"
        },
        "id": "hVKt5N1GinYu",
        "outputId": "1bd36c9f-24c2-4cc6-9246-027142bd7b0d"
      },
      "execution_count": 23,
      "outputs": [
        {
          "output_type": "stream",
          "name": "stdout",
          "text": [
            "♡\n",
            "♡\n",
            "♡\n",
            "♡\n",
            "♡\n",
            "♡\n",
            "♡\n",
            "♡\n",
            "♡\n",
            "♡\n"
          ]
        }
      ]
    },
    {
      "cell_type": "code",
      "source": [
        "a={\"지금까지\":\"영철맨\",\"도와조~\":\"였습니다\"}\n",
        "print(\"♡\"*23)\n",
        "print(a)\n",
        "print(\"♡\"*23)\n",
        "print(\"감사합니다_박영철/고영광/김유리/오현진\")"
      ],
      "metadata": {
        "colab": {
          "base_uri": "https://localhost:8080/"
        },
        "id": "eLKYzVQIipGg",
        "outputId": "91cccba7-acbd-44fc-83ec-4bdba11e13ec"
      },
      "execution_count": 25,
      "outputs": [
        {
          "output_type": "stream",
          "name": "stdout",
          "text": [
            "♡♡♡♡♡♡♡♡♡♡♡♡♡♡♡♡♡♡♡♡♡♡♡\n",
            "{'지금까지': '영철맨', '도와조~': '였습니다'}\n",
            "♡♡♡♡♡♡♡♡♡♡♡♡♡♡♡♡♡♡♡♡♡♡♡\n",
            "감사합니다_박영철/고영광/김유리/오현진\n"
          ]
        }
      ]
    }
  ]
}